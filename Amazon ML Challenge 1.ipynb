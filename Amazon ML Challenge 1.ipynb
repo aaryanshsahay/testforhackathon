{
 "cells": [
  {
   "cell_type": "code",
   "execution_count": 1,
   "id": "adjusted-swimming",
   "metadata": {},
   "outputs": [],
   "source": [
    "\n",
    "import numpy as np\n",
    "import pandas as pd\n",
    "import matplotlib.pyplot as plt\n",
    "import seaborn as sns"
   ]
  },
  {
   "cell_type": "code",
   "execution_count": null,
   "id": "third-oxygen",
   "metadata": {},
   "outputs": [],
   "source": [
    "train = pd.read_csv(r'C:\\Users\\User-1\\Downloads\\Amazon ML Challenge\\train.csv')\n",
    "#test = pd.read_csv(r'C:\\Users\\User-1\\Downloads\\Amazon ML Challenge\\train.csv')"
   ]
  },
  {
   "cell_type": "code",
   "execution_count": 3,
   "id": "derived-dietary",
   "metadata": {},
   "outputs": [
    {
     "data": {
      "text/html": [
       "<div>\n",
       "<style scoped>\n",
       "    .dataframe tbody tr th:only-of-type {\n",
       "        vertical-align: middle;\n",
       "    }\n",
       "\n",
       "    .dataframe tbody tr th {\n",
       "        vertical-align: top;\n",
       "    }\n",
       "\n",
       "    .dataframe thead th {\n",
       "        text-align: right;\n",
       "    }\n",
       "</style>\n",
       "<table border=\"1\" class=\"dataframe\">\n",
       "  <thead>\n",
       "    <tr style=\"text-align: right;\">\n",
       "      <th></th>\n",
       "      <th>PRODUCT_ID</th>\n",
       "      <th>TITLE</th>\n",
       "      <th>BULLET_POINTS</th>\n",
       "      <th>DESCRIPTION</th>\n",
       "      <th>PRODUCT_TYPE_ID</th>\n",
       "      <th>PRODUCT_LENGTH</th>\n",
       "    </tr>\n",
       "  </thead>\n",
       "  <tbody>\n",
       "    <tr>\n",
       "      <th>0</th>\n",
       "      <td>1925202</td>\n",
       "      <td>ArtzFolio Tulip Flowers Blackout Curtain for D...</td>\n",
       "      <td>[LUXURIOUS &amp; APPEALING: Beautiful custom-made ...</td>\n",
       "      <td>NaN</td>\n",
       "      <td>1650</td>\n",
       "      <td>2125.980000</td>\n",
       "    </tr>\n",
       "    <tr>\n",
       "      <th>1</th>\n",
       "      <td>2673191</td>\n",
       "      <td>Marks &amp; Spencer Girls' Pyjama Sets T86_2561C_N...</td>\n",
       "      <td>[Harry Potter Hedwig Pyjamas (6-16 Yrs),100% c...</td>\n",
       "      <td>NaN</td>\n",
       "      <td>2755</td>\n",
       "      <td>393.700000</td>\n",
       "    </tr>\n",
       "    <tr>\n",
       "      <th>2</th>\n",
       "      <td>2765088</td>\n",
       "      <td>PRIKNIK Horn Red Electric Air Horn Compressor ...</td>\n",
       "      <td>[Loud Dual Tone Trumpet Horn, Compatible With ...</td>\n",
       "      <td>Specifications: Color: Red, Material: Aluminiu...</td>\n",
       "      <td>7537</td>\n",
       "      <td>748.031495</td>\n",
       "    </tr>\n",
       "    <tr>\n",
       "      <th>3</th>\n",
       "      <td>1594019</td>\n",
       "      <td>ALISHAH Women's Cotton Ankle Length Leggings C...</td>\n",
       "      <td>[Made By 95%cotton and 5% Lycra which gives yo...</td>\n",
       "      <td>AISHAH Women's Lycra Cotton Ankel Leggings. Br...</td>\n",
       "      <td>2996</td>\n",
       "      <td>787.401574</td>\n",
       "    </tr>\n",
       "    <tr>\n",
       "      <th>4</th>\n",
       "      <td>283658</td>\n",
       "      <td>The United Empire Loyalists: A Chronicle of th...</td>\n",
       "      <td>NaN</td>\n",
       "      <td>NaN</td>\n",
       "      <td>6112</td>\n",
       "      <td>598.424000</td>\n",
       "    </tr>\n",
       "  </tbody>\n",
       "</table>\n",
       "</div>"
      ],
      "text/plain": [
       "   PRODUCT_ID                                              TITLE  \\\n",
       "0     1925202  ArtzFolio Tulip Flowers Blackout Curtain for D...   \n",
       "1     2673191  Marks & Spencer Girls' Pyjama Sets T86_2561C_N...   \n",
       "2     2765088  PRIKNIK Horn Red Electric Air Horn Compressor ...   \n",
       "3     1594019  ALISHAH Women's Cotton Ankle Length Leggings C...   \n",
       "4      283658  The United Empire Loyalists: A Chronicle of th...   \n",
       "\n",
       "                                       BULLET_POINTS  \\\n",
       "0  [LUXURIOUS & APPEALING: Beautiful custom-made ...   \n",
       "1  [Harry Potter Hedwig Pyjamas (6-16 Yrs),100% c...   \n",
       "2  [Loud Dual Tone Trumpet Horn, Compatible With ...   \n",
       "3  [Made By 95%cotton and 5% Lycra which gives yo...   \n",
       "4                                                NaN   \n",
       "\n",
       "                                         DESCRIPTION  PRODUCT_TYPE_ID  \\\n",
       "0                                                NaN             1650   \n",
       "1                                                NaN             2755   \n",
       "2  Specifications: Color: Red, Material: Aluminiu...             7537   \n",
       "3  AISHAH Women's Lycra Cotton Ankel Leggings. Br...             2996   \n",
       "4                                                NaN             6112   \n",
       "\n",
       "   PRODUCT_LENGTH  \n",
       "0     2125.980000  \n",
       "1      393.700000  \n",
       "2      748.031495  \n",
       "3      787.401574  \n",
       "4      598.424000  "
      ]
     },
     "execution_count": 3,
     "metadata": {},
     "output_type": "execute_result"
    }
   ],
   "source": [
    "train.head()"
   ]
  },
  {
   "cell_type": "code",
   "execution_count": 9,
   "id": "mental-indonesian",
   "metadata": {},
   "outputs": [
    {
     "data": {
      "text/plain": [
       "(2249698, 6)"
      ]
     },
     "execution_count": 9,
     "metadata": {},
     "output_type": "execute_result"
    }
   ],
   "source": [
    "np.shape(train)"
   ]
  },
  {
   "cell_type": "code",
   "execution_count": 8,
   "id": "studied-catalog",
   "metadata": {},
   "outputs": [
    {
     "data": {
      "text/plain": [
       "2249698"
      ]
     },
     "execution_count": 8,
     "metadata": {},
     "output_type": "execute_result"
    }
   ],
   "source": [
    "train['PRODUCT_ID'].nunique()"
   ]
  },
  {
   "cell_type": "code",
   "execution_count": 10,
   "id": "wireless-error",
   "metadata": {},
   "outputs": [
    {
     "data": {
      "text/plain": [
       "12907"
      ]
     },
     "execution_count": 10,
     "metadata": {},
     "output_type": "execute_result"
    }
   ],
   "source": [
    "train['PRODUCT_TYPE_ID'].nunique()"
   ]
  },
  {
   "cell_type": "code",
   "execution_count": 11,
   "id": "greater-principal",
   "metadata": {},
   "outputs": [
    {
     "data": {
      "text/plain": [
       "PRODUCT_ID               0\n",
       "TITLE                   12\n",
       "BULLET_POINTS       837364\n",
       "DESCRIPTION        1157381\n",
       "PRODUCT_TYPE_ID          0\n",
       "PRODUCT_LENGTH           0\n",
       "dtype: int64"
      ]
     },
     "execution_count": 11,
     "metadata": {},
     "output_type": "execute_result"
    }
   ],
   "source": [
    "train.isnull().sum()"
   ]
  },
  {
   "cell_type": "code",
   "execution_count": 12,
   "id": "cross-juice",
   "metadata": {},
   "outputs": [
    {
     "data": {
      "text/plain": [
       "'[LUXURIOUS & APPEALING: Beautiful custom-made curtains to decorate any home or office | Includes inbuilt tieback to hold the curtain | Completely finished and ready to hang on walls & windows,MATERIAL: Luxurious & versatile fabric with a natural finish | High colour fastness | State-of-the-art digital printing ensures colour consistency and prevents any fading | Eyelets; Cotton Canvas; Width 4.5feet (54inch) | Multicolour | PACKAGE: 2 Room Curtains Eyelets | SIZE: Height 5 feet (60 inch); SET OF 2 PCS,BLACKOUT CURTAIN: 100% opaque & heavy premium cotton canvas fabric | Tight knitted, long life & durable fabric | Printing only on front side with a plain colour back side,MADE TO PERFECTION: Large eyelets at the top to put hanging hooks | Perfectly tailored seams for durability | Refined stitching with a matching thread color,QUALITY ASSURED: Gentle wash with similar colors in cold water | Avoid direct sunlight to prevent fading | Dispatched after MULTIPLE QUALITY CHECKS]'"
      ]
     },
     "execution_count": 12,
     "metadata": {},
     "output_type": "execute_result"
    }
   ],
   "source": [
    "train.iloc[0][2]"
   ]
  },
  {
   "cell_type": "code",
   "execution_count": 20,
   "id": "small-illness",
   "metadata": {},
   "outputs": [
    {
     "data": {
      "image/png": "[encoded data removed]",
      "text/plain": [
       "<Figure size 432x288 with 1 Axes>"
      ]
     },
     "metadata": {
      "needs_background": "light"
     },
     "output_type": "display_data"
    }
   ],
   "source": [
    "title_tweet_len = train['TITLE'].str.len()\n",
    "\n",
    "plt.hist(title_tweet_len,bins=20,label='train')\n",
    "\n",
    "\n",
    "plt.show()"
   ]
  },
  {
   "cell_type": "code",
   "execution_count": 21,
   "id": "improving-helicopter",
   "metadata": {},
   "outputs": [
    {
     "data": {
      "image/png": "[encoded data removed]",
      "text/plain": [
       "<Figure size 432x288 with 1 Axes>"
      ]
     },
     "metadata": {
      "needs_background": "light"
     },
     "output_type": "display_data"
    }
   ],
   "source": [
    "bullet_tweet_len = train['BULLET_POINTS'].str.len()\n",
    "\n",
    "plt.hist(bullet_tweet_len,bins=20,label='train')\n",
    "\n",
    "\n",
    "plt.show()"
   ]
  },
  {
   "cell_type": "code",
   "execution_count": 23,
   "id": "subtle-width",
   "metadata": {},
   "outputs": [
    {
     "data": {
      "image/png": "[encoded data removed]",
      "text/plain": [
       "<Figure size 432x288 with 1 Axes>"
      ]
     },
     "metadata": {
      "needs_background": "light"
     },
     "output_type": "display_data"
    }
   ],
   "source": [
    "desc_tweet_len = train['DESCRIPTION'].str.len()\n",
    "\n",
    "plt.hist(desc_tweet_len,bins=20,label='train')\n",
    "\n",
    "\n",
    "plt.show()"
   ]
  },
  {
   "cell_type": "code",
   "execution_count": 25,
   "id": "developed-peeing",
   "metadata": {},
   "outputs": [
    {
     "name": "stdout",
     "output_type": "stream",
     "text": [
      "86.77981104918642\n",
      "499.9971196614965\n",
      "629.7622649835167\n"
     ]
    }
   ],
   "source": [
    "print(title_tweet_len.mean())\n",
    "print(bullet_tweet_len.mean())\n",
    "print(desc_tweet_len.mean())"
   ]
  },
  {
   "cell_type": "code",
   "execution_count": 26,
   "id": "sweet-treat",
   "metadata": {},
   "outputs": [
    {
     "data": {
      "text/plain": [
       "count    2.249698e+06\n",
       "mean     4.071839e+03\n",
       "std      1.351685e+06\n",
       "min      1.000000e+00\n",
       "25%      5.118110e+02\n",
       "50%      6.630000e+02\n",
       "75%      1.062992e+03\n",
       "max      1.885801e+09\n",
       "Name: PRODUCT_LENGTH, dtype: float64"
      ]
     },
     "execution_count": 26,
     "metadata": {},
     "output_type": "execute_result"
    }
   ],
   "source": [
    "train['PRODUCT_LENGTH'].describe()"
   ]
  },
  {
   "cell_type": "code",
   "execution_count": 28,
   "id": "focused-leone",
   "metadata": {},
   "outputs": [],
   "source": [
    "df1 = train[train['PRODUCT_LENGTH']==1]"
   ]
  },
  {
   "cell_type": "code",
   "execution_count": 30,
   "id": "expired-princess",
   "metadata": {},
   "outputs": [
    {
     "data": {
      "text/plain": [
       "'[CREATE CUSTOM HEADBOARD ARRANGEMENTS – Includes four panels that can be arranged horizontally or vertically on your wall. Mix and match multiple sets to create the perfect custom look. Pick a single shade that speaks to you for a classic, monochrome look, or use creative color combinations to express your unique style,SOFT AND PADDED - The furniture-grade foam core keeps kids safe, while also doubling as an acoustic panel which dampens sounds and reduces ambient noise. Each piece is covered with a plush microsuede fabric that is lavishly soft, durable, lightly textured, and stain-guarded.,PROTECTIVE FOR KIDS & EDUCATIONAL ENVIRONMENTS – Panels make excellent accents for educational and play areas while adding safety. Featuring colors that kids and adults alike will love. NFPA-260 certified. Certipur-US approved.,EASY TO INSTALL & REMOVE - Panels come with screws and wood boards, affixed with a heavy-duty hook-and-loop style strip. Simply screw boards into wall, and place panels on loop strip. Easy to unstick for different orientations and color mix-and-matching. Queen size can also be used for full beds–king size can also be used for twin beds.,1 YEAR WARRANTY - MADE IN THE USA - Includes 1-year warranty. If you have any issues with your product, please contact customer service. Each panel measures 30\" x 11.25\" x 2.5\" (Queen) or 38\" x 11.25\" x 2.5\" (King). Panelist is made proudly at our manufacturing facility in Atlanta, GA.]'"
      ]
     },
     "execution_count": 30,
     "metadata": {},
     "output_type": "execute_result"
    }
   ],
   "source": [
    "df1.iloc[0][2]"
   ]
  },
  {
   "cell_type": "code",
   "execution_count": 54,
   "id": "bearing-excess",
   "metadata": {},
   "outputs": [],
   "source": [
    "train = pd.read_csv('amazon_train.csv')\n",
    "test = pd.read_csv('amazon_test.csv')\n"
   ]
  },
  {
   "cell_type": "code",
   "execution_count": 55,
   "id": "soviet-ranking",
   "metadata": {},
   "outputs": [
    {
     "data": {
      "text/plain": [
       "Unnamed: 0           0\n",
       "TITLE                0\n",
       "BULLET_POINTS        0\n",
       "PRODUCT_LENGTH       0\n",
       "x                 3185\n",
       "dtype: int64"
      ]
     },
     "execution_count": 55,
     "metadata": {},
     "output_type": "execute_result"
    }
   ],
   "source": [
    "train.isnull().sum()"
   ]
  },
  {
   "cell_type": "code",
   "execution_count": 56,
   "id": "amino-providence",
   "metadata": {},
   "outputs": [],
   "source": [
    "train['x'].fillna(train['TITLE'] , inplace = True)\n",
    "test['x'].fillna(test['TITLE'] , inplace = True)"
   ]
  },
  {
   "cell_type": "code",
   "execution_count": 74,
   "id": "cooked-tournament",
   "metadata": {},
   "outputs": [],
   "source": [
    "train = train[~(train['PRODUCT_LENGTH'] > 2000)]"
   ]
  },
  {
   "cell_type": "markdown",
   "id": "aware-satisfaction",
   "metadata": {},
   "source": [
    "2500 , 1500 , 1100 , 950 , 800"
   ]
  },
  {
   "cell_type": "code",
   "execution_count": 75,
   "id": "broke-queens",
   "metadata": {},
   "outputs": [
    {
     "data": {
      "text/plain": [
       "(2060701, 5)"
      ]
     },
     "execution_count": 75,
     "metadata": {},
     "output_type": "execute_result"
    }
   ],
   "source": [
    "np.shape(train)"
   ]
  },
  {
   "cell_type": "code",
   "execution_count": null,
   "id": "respective-february",
   "metadata": {},
   "outputs": [],
   "source": []
  },
  {
   "cell_type": "code",
   "execution_count": 83,
   "id": "capable-protest",
   "metadata": {},
   "outputs": [],
   "source": [
    "from sklearn.feature_extraction.text import CountVectorizer , TfidfVectorizer\n",
    "tfidf_vectorizer = TfidfVectorizer(max_df = 0.9 , min_df = 2 , stop_words = 'english' , max_features = 15000)\n",
    "df_train = tfidf_vectorizer.fit_transform(train['x'])\n",
    "df_test = tfidf_vectorizer.transform(test['x'])"
   ]
  },
  {
   "cell_type": "code",
   "execution_count": 84,
   "id": "going-accreditation",
   "metadata": {},
   "outputs": [],
   "source": [
    "y_train = train[['PRODUCT_LENGTH']]"
   ]
  },
  {
   "cell_type": "markdown",
   "id": "crazy-belize",
   "metadata": {},
   "source": [
    "## 1."
   ]
  },
  {
   "cell_type": "code",
   "execution_count": 50,
   "id": "standing-uganda",
   "metadata": {},
   "outputs": [],
   "source": [
    "from sklearn.svm import LinearSVR\n",
    "svr = LinearSVR(max_iter = 50000)"
   ]
  },
  {
   "cell_type": "code",
   "execution_count": 51,
   "id": "integrated-cardiff",
   "metadata": {},
   "outputs": [
    {
     "name": "stderr",
     "output_type": "stream",
     "text": [
      "C:\\Users\\User-1\\Anaconda3\\envs\\tfod\\lib\\site-packages\\sklearn\\utils\\validation.py:63: DataConversionWarning: A column-vector y was passed when a 1d array was expected. Please change the shape of y to (n_samples, ), for example using ravel().\n",
      "  return f(*args, **kwargs)\n"
     ]
    }
   ],
   "source": [
    "svr.fit(df_train , y_train)\n",
    "pred = svr.predict(df_test)\n",
    "predicted = svr.predict(df_train)\n",
    "pred = pd.DataFrame(pred)"
   ]
  },
  {
   "cell_type": "code",
   "execution_count": 52,
   "id": "signed-mailman",
   "metadata": {},
   "outputs": [
    {
     "data": {
      "text/plain": [
       "-1.0577509911945002"
      ]
     },
     "execution_count": 52,
     "metadata": {},
     "output_type": "execute_result"
    }
   ],
   "source": [
    "from sklearn import metrics\n",
    "(1-metrics.mean_absolute_percentage_error(y_train,predicted))"
   ]
  },
  {
   "cell_type": "code",
   "execution_count": 53,
   "id": "coupled-glass",
   "metadata": {},
   "outputs": [],
   "source": [
    "pred.to_csv(r'C:\\Users\\User-1\\Downloads\\Amazon ML Challenge\\submit.csv')"
   ]
  },
  {
   "cell_type": "code",
   "execution_count": null,
   "id": "unauthorized-updating",
   "metadata": {},
   "outputs": [],
   "source": []
  },
  {
   "cell_type": "code",
   "execution_count": null,
   "id": "smart-shoot",
   "metadata": {},
   "outputs": [],
   "source": []
  },
  {
   "cell_type": "code",
   "execution_count": null,
   "id": "choice-jewelry",
   "metadata": {},
   "outputs": [],
   "source": []
  },
  {
   "cell_type": "markdown",
   "id": "fundamental-nancy",
   "metadata": {},
   "source": [
    "## 2."
   ]
  },
  {
   "cell_type": "code",
   "execution_count": 94,
   "id": "mighty-madness",
   "metadata": {},
   "outputs": [
    {
     "name": "stderr",
     "output_type": "stream",
     "text": [
      "<ipython-input-94-a25e04da29a5>:17: DataConversionWarning: A column-vector y was passed when a 1d array was expected. Please change the shape of y to (n_samples,), for example using ravel().\n",
      "  model.fit(X_batch, y_batch)\n",
      "<ipython-input-94-a25e04da29a5>:17: DataConversionWarning: A column-vector y was passed when a 1d array was expected. Please change the shape of y to (n_samples,), for example using ravel().\n",
      "  model.fit(X_batch, y_batch)\n",
      "C:\\Users\\User-1\\Anaconda3\\envs\\tfod\\lib\\site-packages\\sklearn\\ensemble\\_forest.py:369: UserWarning: Warm-start fitting without increasing n_estimators does not fit new trees.\n",
      "  warn(\"Warm-start fitting without increasing n_estimators does not \"\n",
      "<ipython-input-94-a25e04da29a5>:17: DataConversionWarning: A column-vector y was passed when a 1d array was expected. Please change the shape of y to (n_samples,), for example using ravel().\n",
      "  model.fit(X_batch, y_batch)\n",
      "C:\\Users\\User-1\\Anaconda3\\envs\\tfod\\lib\\site-packages\\sklearn\\ensemble\\_forest.py:369: UserWarning: Warm-start fitting without increasing n_estimators does not fit new trees.\n",
      "  warn(\"Warm-start fitting without increasing n_estimators does not \"\n",
      "<ipython-input-94-a25e04da29a5>:17: DataConversionWarning: A column-vector y was passed when a 1d array was expected. Please change the shape of y to (n_samples,), for example using ravel().\n",
      "  model.fit(X_batch, y_batch)\n",
      "C:\\Users\\User-1\\Anaconda3\\envs\\tfod\\lib\\site-packages\\sklearn\\ensemble\\_forest.py:369: UserWarning: Warm-start fitting without increasing n_estimators does not fit new trees.\n",
      "  warn(\"Warm-start fitting without increasing n_estimators does not \"\n",
      "<ipython-input-94-a25e04da29a5>:17: DataConversionWarning: A column-vector y was passed when a 1d array was expected. Please change the shape of y to (n_samples,), for example using ravel().\n",
      "  model.fit(X_batch, y_batch)\n",
      "C:\\Users\\User-1\\Anaconda3\\envs\\tfod\\lib\\site-packages\\sklearn\\ensemble\\_forest.py:369: UserWarning: Warm-start fitting without increasing n_estimators does not fit new trees.\n",
      "  warn(\"Warm-start fitting without increasing n_estimators does not \"\n",
      "<ipython-input-94-a25e04da29a5>:17: DataConversionWarning: A column-vector y was passed when a 1d array was expected. Please change the shape of y to (n_samples,), for example using ravel().\n",
      "  model.fit(X_batch, y_batch)\n",
      "C:\\Users\\User-1\\Anaconda3\\envs\\tfod\\lib\\site-packages\\sklearn\\ensemble\\_forest.py:369: UserWarning: Warm-start fitting without increasing n_estimators does not fit new trees.\n",
      "  warn(\"Warm-start fitting without increasing n_estimators does not \"\n",
      "<ipython-input-94-a25e04da29a5>:17: DataConversionWarning: A column-vector y was passed when a 1d array was expected. Please change the shape of y to (n_samples,), for example using ravel().\n",
      "  model.fit(X_batch, y_batch)\n",
      "C:\\Users\\User-1\\Anaconda3\\envs\\tfod\\lib\\site-packages\\sklearn\\ensemble\\_forest.py:369: UserWarning: Warm-start fitting without increasing n_estimators does not fit new trees.\n",
      "  warn(\"Warm-start fitting without increasing n_estimators does not \"\n",
      "<ipython-input-94-a25e04da29a5>:17: DataConversionWarning: A column-vector y was passed when a 1d array was expected. Please change the shape of y to (n_samples,), for example using ravel().\n",
      "  model.fit(X_batch, y_batch)\n",
      "C:\\Users\\User-1\\Anaconda3\\envs\\tfod\\lib\\site-packages\\sklearn\\ensemble\\_forest.py:369: UserWarning: Warm-start fitting without increasing n_estimators does not fit new trees.\n",
      "  warn(\"Warm-start fitting without increasing n_estimators does not \"\n",
      "<ipython-input-94-a25e04da29a5>:17: DataConversionWarning: A column-vector y was passed when a 1d array was expected. Please change the shape of y to (n_samples,), for example using ravel().\n",
      "  model.fit(X_batch, y_batch)\n",
      "C:\\Users\\User-1\\Anaconda3\\envs\\tfod\\lib\\site-packages\\sklearn\\ensemble\\_forest.py:369: UserWarning: Warm-start fitting without increasing n_estimators does not fit new trees.\n",
      "  warn(\"Warm-start fitting without increasing n_estimators does not \"\n",
      "<ipython-input-94-a25e04da29a5>:17: DataConversionWarning: A column-vector y was passed when a 1d array was expected. Please change the shape of y to (n_samples,), for example using ravel().\n",
      "  model.fit(X_batch, y_batch)\n",
      "C:\\Users\\User-1\\Anaconda3\\envs\\tfod\\lib\\site-packages\\sklearn\\ensemble\\_forest.py:369: UserWarning: Warm-start fitting without increasing n_estimators does not fit new trees.\n",
      "  warn(\"Warm-start fitting without increasing n_estimators does not \"\n",
      "<ipython-input-94-a25e04da29a5>:17: DataConversionWarning: A column-vector y was passed when a 1d array was expected. Please change the shape of y to (n_samples,), for example using ravel().\n",
      "  model.fit(X_batch, y_batch)\n",
      "C:\\Users\\User-1\\Anaconda3\\envs\\tfod\\lib\\site-packages\\sklearn\\ensemble\\_forest.py:369: UserWarning: Warm-start fitting without increasing n_estimators does not fit new trees.\n",
      "  warn(\"Warm-start fitting without increasing n_estimators does not \"\n",
      "<ipython-input-94-a25e04da29a5>:17: DataConversionWarning: A column-vector y was passed when a 1d array was expected. Please change the shape of y to (n_samples,), for example using ravel().\n",
      "  model.fit(X_batch, y_batch)\n",
      "C:\\Users\\User-1\\Anaconda3\\envs\\tfod\\lib\\site-packages\\sklearn\\ensemble\\_forest.py:369: UserWarning: Warm-start fitting without increasing n_estimators does not fit new trees.\n",
      "  warn(\"Warm-start fitting without increasing n_estimators does not \"\n",
      "<ipython-input-94-a25e04da29a5>:17: DataConversionWarning: A column-vector y was passed when a 1d array was expected. Please change the shape of y to (n_samples,), for example using ravel().\n",
      "  model.fit(X_batch, y_batch)\n",
      "C:\\Users\\User-1\\Anaconda3\\envs\\tfod\\lib\\site-packages\\sklearn\\ensemble\\_forest.py:369: UserWarning: Warm-start fitting without increasing n_estimators does not fit new trees.\n",
      "  warn(\"Warm-start fitting without increasing n_estimators does not \"\n",
      "<ipython-input-94-a25e04da29a5>:17: DataConversionWarning: A column-vector y was passed when a 1d array was expected. Please change the shape of y to (n_samples,), for example using ravel().\n",
      "  model.fit(X_batch, y_batch)\n",
      "C:\\Users\\User-1\\Anaconda3\\envs\\tfod\\lib\\site-packages\\sklearn\\ensemble\\_forest.py:369: UserWarning: Warm-start fitting without increasing n_estimators does not fit new trees.\n",
      "  warn(\"Warm-start fitting without increasing n_estimators does not \"\n",
      "<ipython-input-94-a25e04da29a5>:17: DataConversionWarning: A column-vector y was passed when a 1d array was expected. Please change the shape of y to (n_samples,), for example using ravel().\n",
      "  model.fit(X_batch, y_batch)\n",
      "C:\\Users\\User-1\\Anaconda3\\envs\\tfod\\lib\\site-packages\\sklearn\\ensemble\\_forest.py:369: UserWarning: Warm-start fitting without increasing n_estimators does not fit new trees.\n",
      "  warn(\"Warm-start fitting without increasing n_estimators does not \"\n",
      "<ipython-input-94-a25e04da29a5>:17: DataConversionWarning: A column-vector y was passed when a 1d array was expected. Please change the shape of y to (n_samples,), for example using ravel().\n",
      "  model.fit(X_batch, y_batch)\n",
      "C:\\Users\\User-1\\Anaconda3\\envs\\tfod\\lib\\site-packages\\sklearn\\ensemble\\_forest.py:369: UserWarning: Warm-start fitting without increasing n_estimators does not fit new trees.\n",
      "  warn(\"Warm-start fitting without increasing n_estimators does not \"\n",
      "<ipython-input-94-a25e04da29a5>:17: DataConversionWarning: A column-vector y was passed when a 1d array was expected. Please change the shape of y to (n_samples,), for example using ravel().\n",
      "  model.fit(X_batch, y_batch)\n",
      "C:\\Users\\User-1\\Anaconda3\\envs\\tfod\\lib\\site-packages\\sklearn\\ensemble\\_forest.py:369: UserWarning: Warm-start fitting without increasing n_estimators does not fit new trees.\n",
      "  warn(\"Warm-start fitting without increasing n_estimators does not \"\n",
      "<ipython-input-94-a25e04da29a5>:17: DataConversionWarning: A column-vector y was passed when a 1d array was expected. Please change the shape of y to (n_samples,), for example using ravel().\n",
      "  model.fit(X_batch, y_batch)\n",
      "C:\\Users\\User-1\\Anaconda3\\envs\\tfod\\lib\\site-packages\\sklearn\\ensemble\\_forest.py:369: UserWarning: Warm-start fitting without increasing n_estimators does not fit new trees.\n",
      "  warn(\"Warm-start fitting without increasing n_estimators does not \"\n",
      "<ipython-input-94-a25e04da29a5>:17: DataConversionWarning: A column-vector y was passed when a 1d array was expected. Please change the shape of y to (n_samples,), for example using ravel().\n",
      "  model.fit(X_batch, y_batch)\n",
      "C:\\Users\\User-1\\Anaconda3\\envs\\tfod\\lib\\site-packages\\sklearn\\ensemble\\_forest.py:369: UserWarning: Warm-start fitting without increasing n_estimators does not fit new trees.\n",
      "  warn(\"Warm-start fitting without increasing n_estimators does not \"\n",
      "<ipython-input-94-a25e04da29a5>:17: DataConversionWarning: A column-vector y was passed when a 1d array was expected. Please change the shape of y to (n_samples,), for example using ravel().\n",
      "  model.fit(X_batch, y_batch)\n",
      "C:\\Users\\User-1\\Anaconda3\\envs\\tfod\\lib\\site-packages\\sklearn\\ensemble\\_forest.py:369: UserWarning: Warm-start fitting without increasing n_estimators does not fit new trees.\n",
      "  warn(\"Warm-start fitting without increasing n_estimators does not \"\n",
      "<ipython-input-94-a25e04da29a5>:17: DataConversionWarning: A column-vector y was passed when a 1d array was expected. Please change the shape of y to (n_samples,), for example using ravel().\n",
      "  model.fit(X_batch, y_batch)\n",
      "C:\\Users\\User-1\\Anaconda3\\envs\\tfod\\lib\\site-packages\\sklearn\\ensemble\\_forest.py:369: UserWarning: Warm-start fitting without increasing n_estimators does not fit new trees.\n",
      "  warn(\"Warm-start fitting without increasing n_estimators does not \"\n",
      "<ipython-input-94-a25e04da29a5>:17: DataConversionWarning: A column-vector y was passed when a 1d array was expected. Please change the shape of y to (n_samples,), for example using ravel().\n",
      "  model.fit(X_batch, y_batch)\n",
      "C:\\Users\\User-1\\Anaconda3\\envs\\tfod\\lib\\site-packages\\sklearn\\ensemble\\_forest.py:369: UserWarning: Warm-start fitting without increasing n_estimators does not fit new trees.\n",
      "  warn(\"Warm-start fitting without increasing n_estimators does not \"\n",
      "<ipython-input-94-a25e04da29a5>:17: DataConversionWarning: A column-vector y was passed when a 1d array was expected. Please change the shape of y to (n_samples,), for example using ravel().\n",
      "  model.fit(X_batch, y_batch)\n",
      "C:\\Users\\User-1\\Anaconda3\\envs\\tfod\\lib\\site-packages\\sklearn\\ensemble\\_forest.py:369: UserWarning: Warm-start fitting without increasing n_estimators does not fit new trees.\n",
      "  warn(\"Warm-start fitting without increasing n_estimators does not \"\n",
      "<ipython-input-94-a25e04da29a5>:17: DataConversionWarning: A column-vector y was passed when a 1d array was expected. Please change the shape of y to (n_samples,), for example using ravel().\n",
      "  model.fit(X_batch, y_batch)\n",
      "C:\\Users\\User-1\\Anaconda3\\envs\\tfod\\lib\\site-packages\\sklearn\\ensemble\\_forest.py:369: UserWarning: Warm-start fitting without increasing n_estimators does not fit new trees.\n",
      "  warn(\"Warm-start fitting without increasing n_estimators does not \"\n",
      "<ipython-input-94-a25e04da29a5>:17: DataConversionWarning: A column-vector y was passed when a 1d array was expected. Please change the shape of y to (n_samples,), for example using ravel().\n",
      "  model.fit(X_batch, y_batch)\n",
      "C:\\Users\\User-1\\Anaconda3\\envs\\tfod\\lib\\site-packages\\sklearn\\ensemble\\_forest.py:369: UserWarning: Warm-start fitting without increasing n_estimators does not fit new trees.\n",
      "  warn(\"Warm-start fitting without increasing n_estimators does not \"\n",
      "<ipython-input-94-a25e04da29a5>:17: DataConversionWarning: A column-vector y was passed when a 1d array was expected. Please change the shape of y to (n_samples,), for example using ravel().\n",
      "  model.fit(X_batch, y_batch)\n",
      "C:\\Users\\User-1\\Anaconda3\\envs\\tfod\\lib\\site-packages\\sklearn\\ensemble\\_forest.py:369: UserWarning: Warm-start fitting without increasing n_estimators does not fit new trees.\n",
      "  warn(\"Warm-start fitting without increasing n_estimators does not \"\n",
      "<ipython-input-94-a25e04da29a5>:17: DataConversionWarning: A column-vector y was passed when a 1d array was expected. Please change the shape of y to (n_samples,), for example using ravel().\n",
      "  model.fit(X_batch, y_batch)\n",
      "C:\\Users\\User-1\\Anaconda3\\envs\\tfod\\lib\\site-packages\\sklearn\\ensemble\\_forest.py:369: UserWarning: Warm-start fitting without increasing n_estimators does not fit new trees.\n",
      "  warn(\"Warm-start fitting without increasing n_estimators does not \"\n",
      "<ipython-input-94-a25e04da29a5>:17: DataConversionWarning: A column-vector y was passed when a 1d array was expected. Please change the shape of y to (n_samples,), for example using ravel().\n",
      "  model.fit(X_batch, y_batch)\n",
      "C:\\Users\\User-1\\Anaconda3\\envs\\tfod\\lib\\site-packages\\sklearn\\ensemble\\_forest.py:369: UserWarning: Warm-start fitting without increasing n_estimators does not fit new trees.\n",
      "  warn(\"Warm-start fitting without increasing n_estimators does not \"\n",
      "<ipython-input-94-a25e04da29a5>:17: DataConversionWarning: A column-vector y was passed when a 1d array was expected. Please change the shape of y to (n_samples,), for example using ravel().\n",
      "  model.fit(X_batch, y_batch)\n",
      "C:\\Users\\User-1\\Anaconda3\\envs\\tfod\\lib\\site-packages\\sklearn\\ensemble\\_forest.py:369: UserWarning: Warm-start fitting without increasing n_estimators does not fit new trees.\n",
      "  warn(\"Warm-start fitting without increasing n_estimators does not \"\n",
      "<ipython-input-94-a25e04da29a5>:17: DataConversionWarning: A column-vector y was passed when a 1d array was expected. Please change the shape of y to (n_samples,), for example using ravel().\n",
      "  model.fit(X_batch, y_batch)\n",
      "C:\\Users\\User-1\\Anaconda3\\envs\\tfod\\lib\\site-packages\\sklearn\\ensemble\\_forest.py:369: UserWarning: Warm-start fitting without increasing n_estimators does not fit new trees.\n",
      "  warn(\"Warm-start fitting without increasing n_estimators does not \"\n",
      "<ipython-input-94-a25e04da29a5>:17: DataConversionWarning: A column-vector y was passed when a 1d array was expected. Please change the shape of y to (n_samples,), for example using ravel().\n",
      "  model.fit(X_batch, y_batch)\n",
      "C:\\Users\\User-1\\Anaconda3\\envs\\tfod\\lib\\site-packages\\sklearn\\ensemble\\_forest.py:369: UserWarning: Warm-start fitting without increasing n_estimators does not fit new trees.\n",
      "  warn(\"Warm-start fitting without increasing n_estimators does not \"\n",
      "<ipython-input-94-a25e04da29a5>:17: DataConversionWarning: A column-vector y was passed when a 1d array was expected. Please change the shape of y to (n_samples,), for example using ravel().\n",
      "  model.fit(X_batch, y_batch)\n",
      "C:\\Users\\User-1\\Anaconda3\\envs\\tfod\\lib\\site-packages\\sklearn\\ensemble\\_forest.py:369: UserWarning: Warm-start fitting without increasing n_estimators does not fit new trees.\n",
      "  warn(\"Warm-start fitting without increasing n_estimators does not \"\n",
      "<ipython-input-94-a25e04da29a5>:17: DataConversionWarning: A column-vector y was passed when a 1d array was expected. Please change the shape of y to (n_samples,), for example using ravel().\n",
      "  model.fit(X_batch, y_batch)\n",
      "C:\\Users\\User-1\\Anaconda3\\envs\\tfod\\lib\\site-packages\\sklearn\\ensemble\\_forest.py:369: UserWarning: Warm-start fitting without increasing n_estimators does not fit new trees.\n",
      "  warn(\"Warm-start fitting without increasing n_estimators does not \"\n",
      "<ipython-input-94-a25e04da29a5>:17: DataConversionWarning: A column-vector y was passed when a 1d array was expected. Please change the shape of y to (n_samples,), for example using ravel().\n",
      "  model.fit(X_batch, y_batch)\n",
      "C:\\Users\\User-1\\Anaconda3\\envs\\tfod\\lib\\site-packages\\sklearn\\ensemble\\_forest.py:369: UserWarning: Warm-start fitting without increasing n_estimators does not fit new trees.\n",
      "  warn(\"Warm-start fitting without increasing n_estimators does not \"\n",
      "<ipython-input-94-a25e04da29a5>:17: DataConversionWarning: A column-vector y was passed when a 1d array was expected. Please change the shape of y to (n_samples,), for example using ravel().\n",
      "  model.fit(X_batch, y_batch)\n",
      "C:\\Users\\User-1\\Anaconda3\\envs\\tfod\\lib\\site-packages\\sklearn\\ensemble\\_forest.py:369: UserWarning: Warm-start fitting without increasing n_estimators does not fit new trees.\n",
      "  warn(\"Warm-start fitting without increasing n_estimators does not \"\n",
      "<ipython-input-94-a25e04da29a5>:17: DataConversionWarning: A column-vector y was passed when a 1d array was expected. Please change the shape of y to (n_samples,), for example using ravel().\n",
      "  model.fit(X_batch, y_batch)\n",
      "C:\\Users\\User-1\\Anaconda3\\envs\\tfod\\lib\\site-packages\\sklearn\\ensemble\\_forest.py:369: UserWarning: Warm-start fitting without increasing n_estimators does not fit new trees.\n",
      "  warn(\"Warm-start fitting without increasing n_estimators does not \"\n",
      "<ipython-input-94-a25e04da29a5>:17: DataConversionWarning: A column-vector y was passed when a 1d array was expected. Please change the shape of y to (n_samples,), for example using ravel().\n",
      "  model.fit(X_batch, y_batch)\n",
      "C:\\Users\\User-1\\Anaconda3\\envs\\tfod\\lib\\site-packages\\sklearn\\ensemble\\_forest.py:369: UserWarning: Warm-start fitting without increasing n_estimators does not fit new trees.\n",
      "  warn(\"Warm-start fitting without increasing n_estimators does not \"\n",
      "<ipython-input-94-a25e04da29a5>:17: DataConversionWarning: A column-vector y was passed when a 1d array was expected. Please change the shape of y to (n_samples,), for example using ravel().\n",
      "  model.fit(X_batch, y_batch)\n",
      "C:\\Users\\User-1\\Anaconda3\\envs\\tfod\\lib\\site-packages\\sklearn\\ensemble\\_forest.py:369: UserWarning: Warm-start fitting without increasing n_estimators does not fit new trees.\n",
      "  warn(\"Warm-start fitting without increasing n_estimators does not \"\n",
      "<ipython-input-94-a25e04da29a5>:17: DataConversionWarning: A column-vector y was passed when a 1d array was expected. Please change the shape of y to (n_samples,), for example using ravel().\n",
      "  model.fit(X_batch, y_batch)\n",
      "C:\\Users\\User-1\\Anaconda3\\envs\\tfod\\lib\\site-packages\\sklearn\\ensemble\\_forest.py:369: UserWarning: Warm-start fitting without increasing n_estimators does not fit new trees.\n",
      "  warn(\"Warm-start fitting without increasing n_estimators does not \"\n",
      "<ipython-input-94-a25e04da29a5>:17: DataConversionWarning: A column-vector y was passed when a 1d array was expected. Please change the shape of y to (n_samples,), for example using ravel().\n",
      "  model.fit(X_batch, y_batch)\n",
      "C:\\Users\\User-1\\Anaconda3\\envs\\tfod\\lib\\site-packages\\sklearn\\ensemble\\_forest.py:369: UserWarning: Warm-start fitting without increasing n_estimators does not fit new trees.\n",
      "  warn(\"Warm-start fitting without increasing n_estimators does not \"\n",
      "<ipython-input-94-a25e04da29a5>:17: DataConversionWarning: A column-vector y was passed when a 1d array was expected. Please change the shape of y to (n_samples,), for example using ravel().\n",
      "  model.fit(X_batch, y_batch)\n",
      "C:\\Users\\User-1\\Anaconda3\\envs\\tfod\\lib\\site-packages\\sklearn\\ensemble\\_forest.py:369: UserWarning: Warm-start fitting without increasing n_estimators does not fit new trees.\n",
      "  warn(\"Warm-start fitting without increasing n_estimators does not \"\n",
      "<ipython-input-94-a25e04da29a5>:17: DataConversionWarning: A column-vector y was passed when a 1d array was expected. Please change the shape of y to (n_samples,), for example using ravel().\n",
      "  model.fit(X_batch, y_batch)\n",
      "C:\\Users\\User-1\\Anaconda3\\envs\\tfod\\lib\\site-packages\\sklearn\\ensemble\\_forest.py:369: UserWarning: Warm-start fitting without increasing n_estimators does not fit new trees.\n",
      "  warn(\"Warm-start fitting without increasing n_estimators does not \"\n",
      "<ipython-input-94-a25e04da29a5>:17: DataConversionWarning: A column-vector y was passed when a 1d array was expected. Please change the shape of y to (n_samples,), for example using ravel().\n",
      "  model.fit(X_batch, y_batch)\n",
      "C:\\Users\\User-1\\Anaconda3\\envs\\tfod\\lib\\site-packages\\sklearn\\ensemble\\_forest.py:369: UserWarning: Warm-start fitting without increasing n_estimators does not fit new trees.\n",
      "  warn(\"Warm-start fitting without increasing n_estimators does not \"\n",
      "<ipython-input-94-a25e04da29a5>:17: DataConversionWarning: A column-vector y was passed when a 1d array was expected. Please change the shape of y to (n_samples,), for example using ravel().\n",
      "  model.fit(X_batch, y_batch)\n",
      "C:\\Users\\User-1\\Anaconda3\\envs\\tfod\\lib\\site-packages\\sklearn\\ensemble\\_forest.py:369: UserWarning: Warm-start fitting without increasing n_estimators does not fit new trees.\n",
      "  warn(\"Warm-start fitting without increasing n_estimators does not \"\n",
      "<ipython-input-94-a25e04da29a5>:17: DataConversionWarning: A column-vector y was passed when a 1d array was expected. Please change the shape of y to (n_samples,), for example using ravel().\n",
      "  model.fit(X_batch, y_batch)\n",
      "C:\\Users\\User-1\\Anaconda3\\envs\\tfod\\lib\\site-packages\\sklearn\\ensemble\\_forest.py:369: UserWarning: Warm-start fitting without increasing n_estimators does not fit new trees.\n",
      "  warn(\"Warm-start fitting without increasing n_estimators does not \"\n",
      "<ipython-input-94-a25e04da29a5>:17: DataConversionWarning: A column-vector y was passed when a 1d array was expected. Please change the shape of y to (n_samples,), for example using ravel().\n",
      "  model.fit(X_batch, y_batch)\n",
      "C:\\Users\\User-1\\Anaconda3\\envs\\tfod\\lib\\site-packages\\sklearn\\ensemble\\_forest.py:369: UserWarning: Warm-start fitting without increasing n_estimators does not fit new trees.\n",
      "  warn(\"Warm-start fitting without increasing n_estimators does not \"\n",
      "<ipython-input-94-a25e04da29a5>:17: DataConversionWarning: A column-vector y was passed when a 1d array was expected. Please change the shape of y to (n_samples,), for example using ravel().\n",
      "  model.fit(X_batch, y_batch)\n",
      "C:\\Users\\User-1\\Anaconda3\\envs\\tfod\\lib\\site-packages\\sklearn\\ensemble\\_forest.py:369: UserWarning: Warm-start fitting without increasing n_estimators does not fit new trees.\n",
      "  warn(\"Warm-start fitting without increasing n_estimators does not \"\n",
      "<ipython-input-94-a25e04da29a5>:17: DataConversionWarning: A column-vector y was passed when a 1d array was expected. Please change the shape of y to (n_samples,), for example using ravel().\n",
      "  model.fit(X_batch, y_batch)\n",
      "C:\\Users\\User-1\\Anaconda3\\envs\\tfod\\lib\\site-packages\\sklearn\\ensemble\\_forest.py:369: UserWarning: Warm-start fitting without increasing n_estimators does not fit new trees.\n",
      "  warn(\"Warm-start fitting without increasing n_estimators does not \"\n",
      "<ipython-input-94-a25e04da29a5>:17: DataConversionWarning: A column-vector y was passed when a 1d array was expected. Please change the shape of y to (n_samples,), for example using ravel().\n",
      "  model.fit(X_batch, y_batch)\n",
      "C:\\Users\\User-1\\Anaconda3\\envs\\tfod\\lib\\site-packages\\sklearn\\ensemble\\_forest.py:369: UserWarning: Warm-start fitting without increasing n_estimators does not fit new trees.\n",
      "  warn(\"Warm-start fitting without increasing n_estimators does not \"\n",
      "<ipython-input-94-a25e04da29a5>:17: DataConversionWarning: A column-vector y was passed when a 1d array was expected. Please change the shape of y to (n_samples,), for example using ravel().\n",
      "  model.fit(X_batch, y_batch)\n",
      "C:\\Users\\User-1\\Anaconda3\\envs\\tfod\\lib\\site-packages\\sklearn\\ensemble\\_forest.py:369: UserWarning: Warm-start fitting without increasing n_estimators does not fit new trees.\n",
      "  warn(\"Warm-start fitting without increasing n_estimators does not \"\n",
      "<ipython-input-94-a25e04da29a5>:17: DataConversionWarning: A column-vector y was passed when a 1d array was expected. Please change the shape of y to (n_samples,), for example using ravel().\n",
      "  model.fit(X_batch, y_batch)\n",
      "C:\\Users\\User-1\\Anaconda3\\envs\\tfod\\lib\\site-packages\\sklearn\\ensemble\\_forest.py:369: UserWarning: Warm-start fitting without increasing n_estimators does not fit new trees.\n",
      "  warn(\"Warm-start fitting without increasing n_estimators does not \"\n",
      "<ipython-input-94-a25e04da29a5>:17: DataConversionWarning: A column-vector y was passed when a 1d array was expected. Please change the shape of y to (n_samples,), for example using ravel().\n",
      "  model.fit(X_batch, y_batch)\n",
      "C:\\Users\\User-1\\Anaconda3\\envs\\tfod\\lib\\site-packages\\sklearn\\ensemble\\_forest.py:369: UserWarning: Warm-start fitting without increasing n_estimators does not fit new trees.\n",
      "  warn(\"Warm-start fitting without increasing n_estimators does not \"\n",
      "<ipython-input-94-a25e04da29a5>:17: DataConversionWarning: A column-vector y was passed when a 1d array was expected. Please change the shape of y to (n_samples,), for example using ravel().\n",
      "  model.fit(X_batch, y_batch)\n",
      "C:\\Users\\User-1\\Anaconda3\\envs\\tfod\\lib\\site-packages\\sklearn\\ensemble\\_forest.py:369: UserWarning: Warm-start fitting without increasing n_estimators does not fit new trees.\n",
      "  warn(\"Warm-start fitting without increasing n_estimators does not \"\n",
      "<ipython-input-94-a25e04da29a5>:17: DataConversionWarning: A column-vector y was passed when a 1d array was expected. Please change the shape of y to (n_samples,), for example using ravel().\n",
      "  model.fit(X_batch, y_batch)\n",
      "C:\\Users\\User-1\\Anaconda3\\envs\\tfod\\lib\\site-packages\\sklearn\\ensemble\\_forest.py:369: UserWarning: Warm-start fitting without increasing n_estimators does not fit new trees.\n",
      "  warn(\"Warm-start fitting without increasing n_estimators does not \"\n",
      "<ipython-input-94-a25e04da29a5>:17: DataConversionWarning: A column-vector y was passed when a 1d array was expected. Please change the shape of y to (n_samples,), for example using ravel().\n",
      "  model.fit(X_batch, y_batch)\n",
      "C:\\Users\\User-1\\Anaconda3\\envs\\tfod\\lib\\site-packages\\sklearn\\ensemble\\_forest.py:369: UserWarning: Warm-start fitting without increasing n_estimators does not fit new trees.\n",
      "  warn(\"Warm-start fitting without increasing n_estimators does not \"\n",
      "<ipython-input-94-a25e04da29a5>:17: DataConversionWarning: A column-vector y was passed when a 1d array was expected. Please change the shape of y to (n_samples,), for example using ravel().\n",
      "  model.fit(X_batch, y_batch)\n",
      "C:\\Users\\User-1\\Anaconda3\\envs\\tfod\\lib\\site-packages\\sklearn\\ensemble\\_forest.py:369: UserWarning: Warm-start fitting without increasing n_estimators does not fit new trees.\n",
      "  warn(\"Warm-start fitting without increasing n_estimators does not \"\n",
      "<ipython-input-94-a25e04da29a5>:17: DataConversionWarning: A column-vector y was passed when a 1d array was expected. Please change the shape of y to (n_samples,), for example using ravel().\n",
      "  model.fit(X_batch, y_batch)\n",
      "C:\\Users\\User-1\\Anaconda3\\envs\\tfod\\lib\\site-packages\\sklearn\\ensemble\\_forest.py:369: UserWarning: Warm-start fitting without increasing n_estimators does not fit new trees.\n",
      "  warn(\"Warm-start fitting without increasing n_estimators does not \"\n",
      "<ipython-input-94-a25e04da29a5>:17: DataConversionWarning: A column-vector y was passed when a 1d array was expected. Please change the shape of y to (n_samples,), for example using ravel().\n",
      "  model.fit(X_batch, y_batch)\n",
      "C:\\Users\\User-1\\Anaconda3\\envs\\tfod\\lib\\site-packages\\sklearn\\ensemble\\_forest.py:369: UserWarning: Warm-start fitting without increasing n_estimators does not fit new trees.\n",
      "  warn(\"Warm-start fitting without increasing n_estimators does not \"\n",
      "<ipython-input-94-a25e04da29a5>:17: DataConversionWarning: A column-vector y was passed when a 1d array was expected. Please change the shape of y to (n_samples,), for example using ravel().\n",
      "  model.fit(X_batch, y_batch)\n",
      "C:\\Users\\User-1\\Anaconda3\\envs\\tfod\\lib\\site-packages\\sklearn\\ensemble\\_forest.py:369: UserWarning: Warm-start fitting without increasing n_estimators does not fit new trees.\n",
      "  warn(\"Warm-start fitting without increasing n_estimators does not \"\n",
      "<ipython-input-94-a25e04da29a5>:17: DataConversionWarning: A column-vector y was passed when a 1d array was expected. Please change the shape of y to (n_samples,), for example using ravel().\n",
      "  model.fit(X_batch, y_batch)\n",
      "C:\\Users\\User-1\\Anaconda3\\envs\\tfod\\lib\\site-packages\\sklearn\\ensemble\\_forest.py:369: UserWarning: Warm-start fitting without increasing n_estimators does not fit new trees.\n",
      "  warn(\"Warm-start fitting without increasing n_estimators does not \"\n",
      "<ipython-input-94-a25e04da29a5>:17: DataConversionWarning: A column-vector y was passed when a 1d array was expected. Please change the shape of y to (n_samples,), for example using ravel().\n",
      "  model.fit(X_batch, y_batch)\n",
      "C:\\Users\\User-1\\Anaconda3\\envs\\tfod\\lib\\site-packages\\sklearn\\ensemble\\_forest.py:369: UserWarning: Warm-start fitting without increasing n_estimators does not fit new trees.\n",
      "  warn(\"Warm-start fitting without increasing n_estimators does not \"\n",
      "<ipython-input-94-a25e04da29a5>:17: DataConversionWarning: A column-vector y was passed when a 1d array was expected. Please change the shape of y to (n_samples,), for example using ravel().\n",
      "  model.fit(X_batch, y_batch)\n",
      "C:\\Users\\User-1\\Anaconda3\\envs\\tfod\\lib\\site-packages\\sklearn\\ensemble\\_forest.py:369: UserWarning: Warm-start fitting without increasing n_estimators does not fit new trees.\n",
      "  warn(\"Warm-start fitting without increasing n_estimators does not \"\n",
      "<ipython-input-94-a25e04da29a5>:17: DataConversionWarning: A column-vector y was passed when a 1d array was expected. Please change the shape of y to (n_samples,), for example using ravel().\n",
      "  model.fit(X_batch, y_batch)\n",
      "C:\\Users\\User-1\\Anaconda3\\envs\\tfod\\lib\\site-packages\\sklearn\\ensemble\\_forest.py:369: UserWarning: Warm-start fitting without increasing n_estimators does not fit new trees.\n",
      "  warn(\"Warm-start fitting without increasing n_estimators does not \"\n",
      "<ipython-input-94-a25e04da29a5>:17: DataConversionWarning: A column-vector y was passed when a 1d array was expected. Please change the shape of y to (n_samples,), for example using ravel().\n",
      "  model.fit(X_batch, y_batch)\n",
      "C:\\Users\\User-1\\Anaconda3\\envs\\tfod\\lib\\site-packages\\sklearn\\ensemble\\_forest.py:369: UserWarning: Warm-start fitting without increasing n_estimators does not fit new trees.\n",
      "  warn(\"Warm-start fitting without increasing n_estimators does not \"\n",
      "<ipython-input-94-a25e04da29a5>:17: DataConversionWarning: A column-vector y was passed when a 1d array was expected. Please change the shape of y to (n_samples,), for example using ravel().\n",
      "  model.fit(X_batch, y_batch)\n",
      "C:\\Users\\User-1\\Anaconda3\\envs\\tfod\\lib\\site-packages\\sklearn\\ensemble\\_forest.py:369: UserWarning: Warm-start fitting without increasing n_estimators does not fit new trees.\n",
      "  warn(\"Warm-start fitting without increasing n_estimators does not \"\n",
      "<ipython-input-94-a25e04da29a5>:17: DataConversionWarning: A column-vector y was passed when a 1d array was expected. Please change the shape of y to (n_samples,), for example using ravel().\n",
      "  model.fit(X_batch, y_batch)\n",
      "C:\\Users\\User-1\\Anaconda3\\envs\\tfod\\lib\\site-packages\\sklearn\\ensemble\\_forest.py:369: UserWarning: Warm-start fitting without increasing n_estimators does not fit new trees.\n",
      "  warn(\"Warm-start fitting without increasing n_estimators does not \"\n",
      "<ipython-input-94-a25e04da29a5>:17: DataConversionWarning: A column-vector y was passed when a 1d array was expected. Please change the shape of y to (n_samples,), for example using ravel().\n",
      "  model.fit(X_batch, y_batch)\n",
      "C:\\Users\\User-1\\Anaconda3\\envs\\tfod\\lib\\site-packages\\sklearn\\ensemble\\_forest.py:369: UserWarning: Warm-start fitting without increasing n_estimators does not fit new trees.\n",
      "  warn(\"Warm-start fitting without increasing n_estimators does not \"\n",
      "<ipython-input-94-a25e04da29a5>:17: DataConversionWarning: A column-vector y was passed when a 1d array was expected. Please change the shape of y to (n_samples,), for example using ravel().\n",
      "  model.fit(X_batch, y_batch)\n",
      "C:\\Users\\User-1\\Anaconda3\\envs\\tfod\\lib\\site-packages\\sklearn\\ensemble\\_forest.py:369: UserWarning: Warm-start fitting without increasing n_estimators does not fit new trees.\n",
      "  warn(\"Warm-start fitting without increasing n_estimators does not \"\n",
      "<ipython-input-94-a25e04da29a5>:17: DataConversionWarning: A column-vector y was passed when a 1d array was expected. Please change the shape of y to (n_samples,), for example using ravel().\n",
      "  model.fit(X_batch, y_batch)\n",
      "C:\\Users\\User-1\\Anaconda3\\envs\\tfod\\lib\\site-packages\\sklearn\\ensemble\\_forest.py:369: UserWarning: Warm-start fitting without increasing n_estimators does not fit new trees.\n",
      "  warn(\"Warm-start fitting without increasing n_estimators does not \"\n",
      "<ipython-input-94-a25e04da29a5>:17: DataConversionWarning: A column-vector y was passed when a 1d array was expected. Please change the shape of y to (n_samples,), for example using ravel().\n",
      "  model.fit(X_batch, y_batch)\n",
      "C:\\Users\\User-1\\Anaconda3\\envs\\tfod\\lib\\site-packages\\sklearn\\ensemble\\_forest.py:369: UserWarning: Warm-start fitting without increasing n_estimators does not fit new trees.\n",
      "  warn(\"Warm-start fitting without increasing n_estimators does not \"\n",
      "<ipython-input-94-a25e04da29a5>:17: DataConversionWarning: A column-vector y was passed when a 1d array was expected. Please change the shape of y to (n_samples,), for example using ravel().\n",
      "  model.fit(X_batch, y_batch)\n",
      "C:\\Users\\User-1\\Anaconda3\\envs\\tfod\\lib\\site-packages\\sklearn\\ensemble\\_forest.py:369: UserWarning: Warm-start fitting without increasing n_estimators does not fit new trees.\n",
      "  warn(\"Warm-start fitting without increasing n_estimators does not \"\n",
      "<ipython-input-94-a25e04da29a5>:17: DataConversionWarning: A column-vector y was passed when a 1d array was expected. Please change the shape of y to (n_samples,), for example using ravel().\n",
      "  model.fit(X_batch, y_batch)\n",
      "C:\\Users\\User-1\\Anaconda3\\envs\\tfod\\lib\\site-packages\\sklearn\\ensemble\\_forest.py:369: UserWarning: Warm-start fitting without increasing n_estimators does not fit new trees.\n",
      "  warn(\"Warm-start fitting without increasing n_estimators does not \"\n",
      "<ipython-input-94-a25e04da29a5>:17: DataConversionWarning: A column-vector y was passed when a 1d array was expected. Please change the shape of y to (n_samples,), for example using ravel().\n",
      "  model.fit(X_batch, y_batch)\n",
      "C:\\Users\\User-1\\Anaconda3\\envs\\tfod\\lib\\site-packages\\sklearn\\ensemble\\_forest.py:369: UserWarning: Warm-start fitting without increasing n_estimators does not fit new trees.\n",
      "  warn(\"Warm-start fitting without increasing n_estimators does not \"\n",
      "<ipython-input-94-a25e04da29a5>:17: DataConversionWarning: A column-vector y was passed when a 1d array was expected. Please change the shape of y to (n_samples,), for example using ravel().\n",
      "  model.fit(X_batch, y_batch)\n",
      "C:\\Users\\User-1\\Anaconda3\\envs\\tfod\\lib\\site-packages\\sklearn\\ensemble\\_forest.py:369: UserWarning: Warm-start fitting without increasing n_estimators does not fit new trees.\n",
      "  warn(\"Warm-start fitting without increasing n_estimators does not \"\n",
      "<ipython-input-94-a25e04da29a5>:17: DataConversionWarning: A column-vector y was passed when a 1d array was expected. Please change the shape of y to (n_samples,), for example using ravel().\n",
      "  model.fit(X_batch, y_batch)\n",
      "C:\\Users\\User-1\\Anaconda3\\envs\\tfod\\lib\\site-packages\\sklearn\\ensemble\\_forest.py:369: UserWarning: Warm-start fitting without increasing n_estimators does not fit new trees.\n",
      "  warn(\"Warm-start fitting without increasing n_estimators does not \"\n",
      "<ipython-input-94-a25e04da29a5>:17: DataConversionWarning: A column-vector y was passed when a 1d array was expected. Please change the shape of y to (n_samples,), for example using ravel().\n",
      "  model.fit(X_batch, y_batch)\n",
      "C:\\Users\\User-1\\Anaconda3\\envs\\tfod\\lib\\site-packages\\sklearn\\ensemble\\_forest.py:369: UserWarning: Warm-start fitting without increasing n_estimators does not fit new trees.\n",
      "  warn(\"Warm-start fitting without increasing n_estimators does not \"\n",
      "<ipython-input-94-a25e04da29a5>:17: DataConversionWarning: A column-vector y was passed when a 1d array was expected. Please change the shape of y to (n_samples,), for example using ravel().\n",
      "  model.fit(X_batch, y_batch)\n",
      "C:\\Users\\User-1\\Anaconda3\\envs\\tfod\\lib\\site-packages\\sklearn\\ensemble\\_forest.py:369: UserWarning: Warm-start fitting without increasing n_estimators does not fit new trees.\n",
      "  warn(\"Warm-start fitting without increasing n_estimators does not \"\n",
      "<ipython-input-94-a25e04da29a5>:17: DataConversionWarning: A column-vector y was passed when a 1d array was expected. Please change the shape of y to (n_samples,), for example using ravel().\n",
      "  model.fit(X_batch, y_batch)\n",
      "C:\\Users\\User-1\\Anaconda3\\envs\\tfod\\lib\\site-packages\\sklearn\\ensemble\\_forest.py:369: UserWarning: Warm-start fitting without increasing n_estimators does not fit new trees.\n",
      "  warn(\"Warm-start fitting without increasing n_estimators does not \"\n",
      "<ipython-input-94-a25e04da29a5>:17: DataConversionWarning: A column-vector y was passed when a 1d array was expected. Please change the shape of y to (n_samples,), for example using ravel().\n",
      "  model.fit(X_batch, y_batch)\n",
      "C:\\Users\\User-1\\Anaconda3\\envs\\tfod\\lib\\site-packages\\sklearn\\ensemble\\_forest.py:369: UserWarning: Warm-start fitting without increasing n_estimators does not fit new trees.\n",
      "  warn(\"Warm-start fitting without increasing n_estimators does not \"\n",
      "<ipython-input-94-a25e04da29a5>:17: DataConversionWarning: A column-vector y was passed when a 1d array was expected. Please change the shape of y to (n_samples,), for example using ravel().\n",
      "  model.fit(X_batch, y_batch)\n",
      "C:\\Users\\User-1\\Anaconda3\\envs\\tfod\\lib\\site-packages\\sklearn\\ensemble\\_forest.py:369: UserWarning: Warm-start fitting without increasing n_estimators does not fit new trees.\n",
      "  warn(\"Warm-start fitting without increasing n_estimators does not \"\n",
      "<ipython-input-94-a25e04da29a5>:17: DataConversionWarning: A column-vector y was passed when a 1d array was expected. Please change the shape of y to (n_samples,), for example using ravel().\n",
      "  model.fit(X_batch, y_batch)\n",
      "C:\\Users\\User-1\\Anaconda3\\envs\\tfod\\lib\\site-packages\\sklearn\\ensemble\\_forest.py:369: UserWarning: Warm-start fitting without increasing n_estimators does not fit new trees.\n",
      "  warn(\"Warm-start fitting without increasing n_estimators does not \"\n",
      "<ipython-input-94-a25e04da29a5>:17: DataConversionWarning: A column-vector y was passed when a 1d array was expected. Please change the shape of y to (n_samples,), for example using ravel().\n",
      "  model.fit(X_batch, y_batch)\n",
      "C:\\Users\\User-1\\Anaconda3\\envs\\tfod\\lib\\site-packages\\sklearn\\ensemble\\_forest.py:369: UserWarning: Warm-start fitting without increasing n_estimators does not fit new trees.\n",
      "  warn(\"Warm-start fitting without increasing n_estimators does not \"\n",
      "<ipython-input-94-a25e04da29a5>:17: DataConversionWarning: A column-vector y was passed when a 1d array was expected. Please change the shape of y to (n_samples,), for example using ravel().\n",
      "  model.fit(X_batch, y_batch)\n",
      "C:\\Users\\User-1\\Anaconda3\\envs\\tfod\\lib\\site-packages\\sklearn\\ensemble\\_forest.py:369: UserWarning: Warm-start fitting without increasing n_estimators does not fit new trees.\n",
      "  warn(\"Warm-start fitting without increasing n_estimators does not \"\n",
      "<ipython-input-94-a25e04da29a5>:17: DataConversionWarning: A column-vector y was passed when a 1d array was expected. Please change the shape of y to (n_samples,), for example using ravel().\n",
      "  model.fit(X_batch, y_batch)\n",
      "C:\\Users\\User-1\\Anaconda3\\envs\\tfod\\lib\\site-packages\\sklearn\\ensemble\\_forest.py:369: UserWarning: Warm-start fitting without increasing n_estimators does not fit new trees.\n",
      "  warn(\"Warm-start fitting without increasing n_estimators does not \"\n",
      "<ipython-input-94-a25e04da29a5>:17: DataConversionWarning: A column-vector y was passed when a 1d array was expected. Please change the shape of y to (n_samples,), for example using ravel().\n",
      "  model.fit(X_batch, y_batch)\n",
      "C:\\Users\\User-1\\Anaconda3\\envs\\tfod\\lib\\site-packages\\sklearn\\ensemble\\_forest.py:369: UserWarning: Warm-start fitting without increasing n_estimators does not fit new trees.\n",
      "  warn(\"Warm-start fitting without increasing n_estimators does not \"\n",
      "<ipython-input-94-a25e04da29a5>:17: DataConversionWarning: A column-vector y was passed when a 1d array was expected. Please change the shape of y to (n_samples,), for example using ravel().\n",
      "  model.fit(X_batch, y_batch)\n",
      "C:\\Users\\User-1\\Anaconda3\\envs\\tfod\\lib\\site-packages\\sklearn\\ensemble\\_forest.py:369: UserWarning: Warm-start fitting without increasing n_estimators does not fit new trees.\n",
      "  warn(\"Warm-start fitting without increasing n_estimators does not \"\n",
      "<ipython-input-94-a25e04da29a5>:17: DataConversionWarning: A column-vector y was passed when a 1d array was expected. Please change the shape of y to (n_samples,), for example using ravel().\n",
      "  model.fit(X_batch, y_batch)\n",
      "C:\\Users\\User-1\\Anaconda3\\envs\\tfod\\lib\\site-packages\\sklearn\\ensemble\\_forest.py:369: UserWarning: Warm-start fitting without increasing n_estimators does not fit new trees.\n",
      "  warn(\"Warm-start fitting without increasing n_estimators does not \"\n",
      "<ipython-input-94-a25e04da29a5>:17: DataConversionWarning: A column-vector y was passed when a 1d array was expected. Please change the shape of y to (n_samples,), for example using ravel().\n",
      "  model.fit(X_batch, y_batch)\n",
      "C:\\Users\\User-1\\Anaconda3\\envs\\tfod\\lib\\site-packages\\sklearn\\ensemble\\_forest.py:369: UserWarning: Warm-start fitting without increasing n_estimators does not fit new trees.\n",
      "  warn(\"Warm-start fitting without increasing n_estimators does not \"\n",
      "<ipython-input-94-a25e04da29a5>:17: DataConversionWarning: A column-vector y was passed when a 1d array was expected. Please change the shape of y to (n_samples,), for example using ravel().\n",
      "  model.fit(X_batch, y_batch)\n",
      "C:\\Users\\User-1\\Anaconda3\\envs\\tfod\\lib\\site-packages\\sklearn\\ensemble\\_forest.py:369: UserWarning: Warm-start fitting without increasing n_estimators does not fit new trees.\n",
      "  warn(\"Warm-start fitting without increasing n_estimators does not \"\n",
      "<ipython-input-94-a25e04da29a5>:17: DataConversionWarning: A column-vector y was passed when a 1d array was expected. Please change the shape of y to (n_samples,), for example using ravel().\n",
      "  model.fit(X_batch, y_batch)\n",
      "C:\\Users\\User-1\\Anaconda3\\envs\\tfod\\lib\\site-packages\\sklearn\\ensemble\\_forest.py:369: UserWarning: Warm-start fitting without increasing n_estimators does not fit new trees.\n",
      "  warn(\"Warm-start fitting without increasing n_estimators does not \"\n",
      "<ipython-input-94-a25e04da29a5>:17: DataConversionWarning: A column-vector y was passed when a 1d array was expected. Please change the shape of y to (n_samples,), for example using ravel().\n",
      "  model.fit(X_batch, y_batch)\n",
      "C:\\Users\\User-1\\Anaconda3\\envs\\tfod\\lib\\site-packages\\sklearn\\ensemble\\_forest.py:369: UserWarning: Warm-start fitting without increasing n_estimators does not fit new trees.\n",
      "  warn(\"Warm-start fitting without increasing n_estimators does not \"\n",
      "<ipython-input-94-a25e04da29a5>:17: DataConversionWarning: A column-vector y was passed when a 1d array was expected. Please change the shape of y to (n_samples,), for example using ravel().\n",
      "  model.fit(X_batch, y_batch)\n",
      "C:\\Users\\User-1\\Anaconda3\\envs\\tfod\\lib\\site-packages\\sklearn\\ensemble\\_forest.py:369: UserWarning: Warm-start fitting without increasing n_estimators does not fit new trees.\n",
      "  warn(\"Warm-start fitting without increasing n_estimators does not \"\n",
      "<ipython-input-94-a25e04da29a5>:17: DataConversionWarning: A column-vector y was passed when a 1d array was expected. Please change the shape of y to (n_samples,), for example using ravel().\n",
      "  model.fit(X_batch, y_batch)\n",
      "C:\\Users\\User-1\\Anaconda3\\envs\\tfod\\lib\\site-packages\\sklearn\\ensemble\\_forest.py:369: UserWarning: Warm-start fitting without increasing n_estimators does not fit new trees.\n",
      "  warn(\"Warm-start fitting without increasing n_estimators does not \"\n",
      "<ipython-input-94-a25e04da29a5>:17: DataConversionWarning: A column-vector y was passed when a 1d array was expected. Please change the shape of y to (n_samples,), for example using ravel().\n",
      "  model.fit(X_batch, y_batch)\n",
      "C:\\Users\\User-1\\Anaconda3\\envs\\tfod\\lib\\site-packages\\sklearn\\ensemble\\_forest.py:369: UserWarning: Warm-start fitting without increasing n_estimators does not fit new trees.\n",
      "  warn(\"Warm-start fitting without increasing n_estimators does not \"\n",
      "<ipython-input-94-a25e04da29a5>:17: DataConversionWarning: A column-vector y was passed when a 1d array was expected. Please change the shape of y to (n_samples,), for example using ravel().\n",
      "  model.fit(X_batch, y_batch)\n",
      "C:\\Users\\User-1\\Anaconda3\\envs\\tfod\\lib\\site-packages\\sklearn\\ensemble\\_forest.py:369: UserWarning: Warm-start fitting without increasing n_estimators does not fit new trees.\n",
      "  warn(\"Warm-start fitting without increasing n_estimators does not \"\n",
      "<ipython-input-94-a25e04da29a5>:17: DataConversionWarning: A column-vector y was passed when a 1d array was expected. Please change the shape of y to (n_samples,), for example using ravel().\n",
      "  model.fit(X_batch, y_batch)\n",
      "C:\\Users\\User-1\\Anaconda3\\envs\\tfod\\lib\\site-packages\\sklearn\\ensemble\\_forest.py:369: UserWarning: Warm-start fitting without increasing n_estimators does not fit new trees.\n",
      "  warn(\"Warm-start fitting without increasing n_estimators does not \"\n",
      "<ipython-input-94-a25e04da29a5>:17: DataConversionWarning: A column-vector y was passed when a 1d array was expected. Please change the shape of y to (n_samples,), for example using ravel().\n",
      "  model.fit(X_batch, y_batch)\n",
      "C:\\Users\\User-1\\Anaconda3\\envs\\tfod\\lib\\site-packages\\sklearn\\ensemble\\_forest.py:369: UserWarning: Warm-start fitting without increasing n_estimators does not fit new trees.\n",
      "  warn(\"Warm-start fitting without increasing n_estimators does not \"\n",
      "<ipython-input-94-a25e04da29a5>:17: DataConversionWarning: A column-vector y was passed when a 1d array was expected. Please change the shape of y to (n_samples,), for example using ravel().\n",
      "  model.fit(X_batch, y_batch)\n",
      "C:\\Users\\User-1\\Anaconda3\\envs\\tfod\\lib\\site-packages\\sklearn\\ensemble\\_forest.py:369: UserWarning: Warm-start fitting without increasing n_estimators does not fit new trees.\n",
      "  warn(\"Warm-start fitting without increasing n_estimators does not \"\n",
      "<ipython-input-94-a25e04da29a5>:17: DataConversionWarning: A column-vector y was passed when a 1d array was expected. Please change the shape of y to (n_samples,), for example using ravel().\n",
      "  model.fit(X_batch, y_batch)\n",
      "C:\\Users\\User-1\\Anaconda3\\envs\\tfod\\lib\\site-packages\\sklearn\\ensemble\\_forest.py:369: UserWarning: Warm-start fitting without increasing n_estimators does not fit new trees.\n",
      "  warn(\"Warm-start fitting without increasing n_estimators does not \"\n",
      "<ipython-input-94-a25e04da29a5>:17: DataConversionWarning: A column-vector y was passed when a 1d array was expected. Please change the shape of y to (n_samples,), for example using ravel().\n",
      "  model.fit(X_batch, y_batch)\n",
      "C:\\Users\\User-1\\Anaconda3\\envs\\tfod\\lib\\site-packages\\sklearn\\ensemble\\_forest.py:369: UserWarning: Warm-start fitting without increasing n_estimators does not fit new trees.\n",
      "  warn(\"Warm-start fitting without increasing n_estimators does not \"\n",
      "<ipython-input-94-a25e04da29a5>:17: DataConversionWarning: A column-vector y was passed when a 1d array was expected. Please change the shape of y to (n_samples,), for example using ravel().\n",
      "  model.fit(X_batch, y_batch)\n",
      "C:\\Users\\User-1\\Anaconda3\\envs\\tfod\\lib\\site-packages\\sklearn\\ensemble\\_forest.py:369: UserWarning: Warm-start fitting without increasing n_estimators does not fit new trees.\n",
      "  warn(\"Warm-start fitting without increasing n_estimators does not \"\n",
      "<ipython-input-94-a25e04da29a5>:17: DataConversionWarning: A column-vector y was passed when a 1d array was expected. Please change the shape of y to (n_samples,), for example using ravel().\n",
      "  model.fit(X_batch, y_batch)\n",
      "C:\\Users\\User-1\\Anaconda3\\envs\\tfod\\lib\\site-packages\\sklearn\\ensemble\\_forest.py:369: UserWarning: Warm-start fitting without increasing n_estimators does not fit new trees.\n",
      "  warn(\"Warm-start fitting without increasing n_estimators does not \"\n",
      "<ipython-input-94-a25e04da29a5>:17: DataConversionWarning: A column-vector y was passed when a 1d array was expected. Please change the shape of y to (n_samples,), for example using ravel().\n",
      "  model.fit(X_batch, y_batch)\n",
      "C:\\Users\\User-1\\Anaconda3\\envs\\tfod\\lib\\site-packages\\sklearn\\ensemble\\_forest.py:369: UserWarning: Warm-start fitting without increasing n_estimators does not fit new trees.\n",
      "  warn(\"Warm-start fitting without increasing n_estimators does not \"\n",
      "<ipython-input-94-a25e04da29a5>:17: DataConversionWarning: A column-vector y was passed when a 1d array was expected. Please change the shape of y to (n_samples,), for example using ravel().\n",
      "  model.fit(X_batch, y_batch)\n",
      "C:\\Users\\User-1\\Anaconda3\\envs\\tfod\\lib\\site-packages\\sklearn\\ensemble\\_forest.py:369: UserWarning: Warm-start fitting without increasing n_estimators does not fit new trees.\n",
      "  warn(\"Warm-start fitting without increasing n_estimators does not \"\n"
     ]
    }
   ],
   "source": [
    "from sklearn.ensemble import RandomForestRegressor\n",
    "import numpy as np\n",
    "\n",
    "# Initialize the model\n",
    "model = RandomForestRegressor(n_estimators=100, max_depth=3, warm_start=True)\n",
    "\n",
    "\n",
    "# Define the batch size\n",
    "batch_size = 20000\n",
    "\n",
    "# Loop over the dataset in batches\n",
    "for i in range(0, len(y_train), batch_size):\n",
    "    X_batch = df_train[i:i+batch_size]\n",
    "    y_batch = y_train[i:i+batch_size]\n",
    "    \n",
    "    # Train on the batch\n",
    "    model.fit(X_batch, y_batch)\n"
   ]
  },
  {
   "cell_type": "code",
   "execution_count": 95,
   "id": "ongoing-empire",
   "metadata": {},
   "outputs": [],
   "source": [
    "pred1 = model.predict(df_test)\n",
    "pred1 = pd.DataFrame(pred1)"
   ]
  },
  {
   "cell_type": "code",
   "execution_count": 96,
   "id": "super-significance",
   "metadata": {},
   "outputs": [],
   "source": [
    "pred1.to_csv(r'C:\\Users\\User-1\\Downloads\\Amazon ML Challenge\\submit1.csv')"
   ]
  },
  {
   "cell_type": "code",
   "execution_count": 91,
   "id": "danish-width",
   "metadata": {},
   "outputs": [
    {
     "name": "stderr",
     "output_type": "stream",
     "text": [
      "C:\\Users\\User-1\\Anaconda3\\envs\\tfod\\lib\\site-packages\\sklearn\\utils\\validation.py:63: DataConversionWarning: A column-vector y was passed when a 1d array was expected. Please change the shape of y to (n_samples, ), for example using ravel().\n",
      "  return f(*args, **kwargs)\n",
      "C:\\Users\\User-1\\Anaconda3\\envs\\tfod\\lib\\site-packages\\sklearn\\utils\\validation.py:63: DataConversionWarning: A column-vector y was passed when a 1d array was expected. Please change the shape of y to (n_samples, ), for example using ravel().\n",
      "  return f(*args, **kwargs)\n",
      "C:\\Users\\User-1\\Anaconda3\\envs\\tfod\\lib\\site-packages\\sklearn\\utils\\validation.py:63: DataConversionWarning: A column-vector y was passed when a 1d array was expected. Please change the shape of y to (n_samples, ), for example using ravel().\n",
      "  return f(*args, **kwargs)\n",
      "C:\\Users\\User-1\\Anaconda3\\envs\\tfod\\lib\\site-packages\\sklearn\\utils\\validation.py:63: DataConversionWarning: A column-vector y was passed when a 1d array was expected. Please change the shape of y to (n_samples, ), for example using ravel().\n",
      "  return f(*args, **kwargs)\n",
      "C:\\Users\\User-1\\Anaconda3\\envs\\tfod\\lib\\site-packages\\sklearn\\utils\\validation.py:63: DataConversionWarning: A column-vector y was passed when a 1d array was expected. Please change the shape of y to (n_samples, ), for example using ravel().\n",
      "  return f(*args, **kwargs)\n",
      "C:\\Users\\User-1\\Anaconda3\\envs\\tfod\\lib\\site-packages\\sklearn\\utils\\validation.py:63: DataConversionWarning: A column-vector y was passed when a 1d array was expected. Please change the shape of y to (n_samples, ), for example using ravel().\n",
      "  return f(*args, **kwargs)\n",
      "C:\\Users\\User-1\\Anaconda3\\envs\\tfod\\lib\\site-packages\\sklearn\\utils\\validation.py:63: DataConversionWarning: A column-vector y was passed when a 1d array was expected. Please change the shape of y to (n_samples, ), for example using ravel().\n",
      "  return f(*args, **kwargs)\n",
      "C:\\Users\\User-1\\Anaconda3\\envs\\tfod\\lib\\site-packages\\sklearn\\utils\\validation.py:63: DataConversionWarning: A column-vector y was passed when a 1d array was expected. Please change the shape of y to (n_samples, ), for example using ravel().\n",
      "  return f(*args, **kwargs)\n",
      "C:\\Users\\User-1\\Anaconda3\\envs\\tfod\\lib\\site-packages\\sklearn\\utils\\validation.py:63: DataConversionWarning: A column-vector y was passed when a 1d array was expected. Please change the shape of y to (n_samples, ), for example using ravel().\n",
      "  return f(*args, **kwargs)\n",
      "C:\\Users\\User-1\\Anaconda3\\envs\\tfod\\lib\\site-packages\\sklearn\\utils\\validation.py:63: DataConversionWarning: A column-vector y was passed when a 1d array was expected. Please change the shape of y to (n_samples, ), for example using ravel().\n",
      "  return f(*args, **kwargs)\n",
      "C:\\Users\\User-1\\Anaconda3\\envs\\tfod\\lib\\site-packages\\sklearn\\utils\\validation.py:63: DataConversionWarning: A column-vector y was passed when a 1d array was expected. Please change the shape of y to (n_samples, ), for example using ravel().\n",
      "  return f(*args, **kwargs)\n",
      "C:\\Users\\User-1\\Anaconda3\\envs\\tfod\\lib\\site-packages\\sklearn\\utils\\validation.py:63: DataConversionWarning: A column-vector y was passed when a 1d array was expected. Please change the shape of y to (n_samples, ), for example using ravel().\n",
      "  return f(*args, **kwargs)\n",
      "C:\\Users\\User-1\\Anaconda3\\envs\\tfod\\lib\\site-packages\\sklearn\\utils\\validation.py:63: DataConversionWarning: A column-vector y was passed when a 1d array was expected. Please change the shape of y to (n_samples, ), for example using ravel().\n",
      "  return f(*args, **kwargs)\n",
      "C:\\Users\\User-1\\Anaconda3\\envs\\tfod\\lib\\site-packages\\sklearn\\utils\\validation.py:63: DataConversionWarning: A column-vector y was passed when a 1d array was expected. Please change the shape of y to (n_samples, ), for example using ravel().\n",
      "  return f(*args, **kwargs)\n",
      "C:\\Users\\User-1\\Anaconda3\\envs\\tfod\\lib\\site-packages\\sklearn\\utils\\validation.py:63: DataConversionWarning: A column-vector y was passed when a 1d array was expected. Please change the shape of y to (n_samples, ), for example using ravel().\n",
      "  return f(*args, **kwargs)\n",
      "C:\\Users\\User-1\\Anaconda3\\envs\\tfod\\lib\\site-packages\\sklearn\\utils\\validation.py:63: DataConversionWarning: A column-vector y was passed when a 1d array was expected. Please change the shape of y to (n_samples, ), for example using ravel().\n",
      "  return f(*args, **kwargs)\n",
      "C:\\Users\\User-1\\Anaconda3\\envs\\tfod\\lib\\site-packages\\sklearn\\utils\\validation.py:63: DataConversionWarning: A column-vector y was passed when a 1d array was expected. Please change the shape of y to (n_samples, ), for example using ravel().\n",
      "  return f(*args, **kwargs)\n",
      "C:\\Users\\User-1\\Anaconda3\\envs\\tfod\\lib\\site-packages\\sklearn\\utils\\validation.py:63: DataConversionWarning: A column-vector y was passed when a 1d array was expected. Please change the shape of y to (n_samples, ), for example using ravel().\n",
      "  return f(*args, **kwargs)\n",
      "C:\\Users\\User-1\\Anaconda3\\envs\\tfod\\lib\\site-packages\\sklearn\\utils\\validation.py:63: DataConversionWarning: A column-vector y was passed when a 1d array was expected. Please change the shape of y to (n_samples, ), for example using ravel().\n",
      "  return f(*args, **kwargs)\n",
      "C:\\Users\\User-1\\Anaconda3\\envs\\tfod\\lib\\site-packages\\sklearn\\utils\\validation.py:63: DataConversionWarning: A column-vector y was passed when a 1d array was expected. Please change the shape of y to (n_samples, ), for example using ravel().\n",
      "  return f(*args, **kwargs)\n",
      "C:\\Users\\User-1\\Anaconda3\\envs\\tfod\\lib\\site-packages\\sklearn\\utils\\validation.py:63: DataConversionWarning: A column-vector y was passed when a 1d array was expected. Please change the shape of y to (n_samples, ), for example using ravel().\n",
      "  return f(*args, **kwargs)\n",
      "C:\\Users\\User-1\\Anaconda3\\envs\\tfod\\lib\\site-packages\\sklearn\\utils\\validation.py:63: DataConversionWarning: A column-vector y was passed when a 1d array was expected. Please change the shape of y to (n_samples, ), for example using ravel().\n",
      "  return f(*args, **kwargs)\n",
      "C:\\Users\\User-1\\Anaconda3\\envs\\tfod\\lib\\site-packages\\sklearn\\utils\\validation.py:63: DataConversionWarning: A column-vector y was passed when a 1d array was expected. Please change the shape of y to (n_samples, ), for example using ravel().\n",
      "  return f(*args, **kwargs)\n",
      "C:\\Users\\User-1\\Anaconda3\\envs\\tfod\\lib\\site-packages\\sklearn\\utils\\validation.py:63: DataConversionWarning: A column-vector y was passed when a 1d array was expected. Please change the shape of y to (n_samples, ), for example using ravel().\n",
      "  return f(*args, **kwargs)\n",
      "C:\\Users\\User-1\\Anaconda3\\envs\\tfod\\lib\\site-packages\\sklearn\\utils\\validation.py:63: DataConversionWarning: A column-vector y was passed when a 1d array was expected. Please change the shape of y to (n_samples, ), for example using ravel().\n",
      "  return f(*args, **kwargs)\n",
      "C:\\Users\\User-1\\Anaconda3\\envs\\tfod\\lib\\site-packages\\sklearn\\utils\\validation.py:63: DataConversionWarning: A column-vector y was passed when a 1d array was expected. Please change the shape of y to (n_samples, ), for example using ravel().\n",
      "  return f(*args, **kwargs)\n",
      "C:\\Users\\User-1\\Anaconda3\\envs\\tfod\\lib\\site-packages\\sklearn\\utils\\validation.py:63: DataConversionWarning: A column-vector y was passed when a 1d array was expected. Please change the shape of y to (n_samples, ), for example using ravel().\n",
      "  return f(*args, **kwargs)\n",
      "C:\\Users\\User-1\\Anaconda3\\envs\\tfod\\lib\\site-packages\\sklearn\\utils\\validation.py:63: DataConversionWarning: A column-vector y was passed when a 1d array was expected. Please change the shape of y to (n_samples, ), for example using ravel().\n",
      "  return f(*args, **kwargs)\n",
      "C:\\Users\\User-1\\Anaconda3\\envs\\tfod\\lib\\site-packages\\sklearn\\utils\\validation.py:63: DataConversionWarning: A column-vector y was passed when a 1d array was expected. Please change the shape of y to (n_samples, ), for example using ravel().\n",
      "  return f(*args, **kwargs)\n",
      "C:\\Users\\User-1\\Anaconda3\\envs\\tfod\\lib\\site-packages\\sklearn\\utils\\validation.py:63: DataConversionWarning: A column-vector y was passed when a 1d array was expected. Please change the shape of y to (n_samples, ), for example using ravel().\n",
      "  return f(*args, **kwargs)\n",
      "C:\\Users\\User-1\\Anaconda3\\envs\\tfod\\lib\\site-packages\\sklearn\\utils\\validation.py:63: DataConversionWarning: A column-vector y was passed when a 1d array was expected. Please change the shape of y to (n_samples, ), for example using ravel().\n",
      "  return f(*args, **kwargs)\n",
      "C:\\Users\\User-1\\Anaconda3\\envs\\tfod\\lib\\site-packages\\sklearn\\utils\\validation.py:63: DataConversionWarning: A column-vector y was passed when a 1d array was expected. Please change the shape of y to (n_samples, ), for example using ravel().\n",
      "  return f(*args, **kwargs)\n",
      "C:\\Users\\User-1\\Anaconda3\\envs\\tfod\\lib\\site-packages\\sklearn\\utils\\validation.py:63: DataConversionWarning: A column-vector y was passed when a 1d array was expected. Please change the shape of y to (n_samples, ), for example using ravel().\n",
      "  return f(*args, **kwargs)\n",
      "C:\\Users\\User-1\\Anaconda3\\envs\\tfod\\lib\\site-packages\\sklearn\\utils\\validation.py:63: DataConversionWarning: A column-vector y was passed when a 1d array was expected. Please change the shape of y to (n_samples, ), for example using ravel().\n",
      "  return f(*args, **kwargs)\n",
      "C:\\Users\\User-1\\Anaconda3\\envs\\tfod\\lib\\site-packages\\sklearn\\utils\\validation.py:63: DataConversionWarning: A column-vector y was passed when a 1d array was expected. Please change the shape of y to (n_samples, ), for example using ravel().\n",
      "  return f(*args, **kwargs)\n",
      "C:\\Users\\User-1\\Anaconda3\\envs\\tfod\\lib\\site-packages\\sklearn\\utils\\validation.py:63: DataConversionWarning: A column-vector y was passed when a 1d array was expected. Please change the shape of y to (n_samples, ), for example using ravel().\n",
      "  return f(*args, **kwargs)\n",
      "C:\\Users\\User-1\\Anaconda3\\envs\\tfod\\lib\\site-packages\\sklearn\\utils\\validation.py:63: DataConversionWarning: A column-vector y was passed when a 1d array was expected. Please change the shape of y to (n_samples, ), for example using ravel().\n",
      "  return f(*args, **kwargs)\n",
      "C:\\Users\\User-1\\Anaconda3\\envs\\tfod\\lib\\site-packages\\sklearn\\utils\\validation.py:63: DataConversionWarning: A column-vector y was passed when a 1d array was expected. Please change the shape of y to (n_samples, ), for example using ravel().\n",
      "  return f(*args, **kwargs)\n",
      "C:\\Users\\User-1\\Anaconda3\\envs\\tfod\\lib\\site-packages\\sklearn\\utils\\validation.py:63: DataConversionWarning: A column-vector y was passed when a 1d array was expected. Please change the shape of y to (n_samples, ), for example using ravel().\n",
      "  return f(*args, **kwargs)\n",
      "C:\\Users\\User-1\\Anaconda3\\envs\\tfod\\lib\\site-packages\\sklearn\\utils\\validation.py:63: DataConversionWarning: A column-vector y was passed when a 1d array was expected. Please change the shape of y to (n_samples, ), for example using ravel().\n",
      "  return f(*args, **kwargs)\n",
      "C:\\Users\\User-1\\Anaconda3\\envs\\tfod\\lib\\site-packages\\sklearn\\utils\\validation.py:63: DataConversionWarning: A column-vector y was passed when a 1d array was expected. Please change the shape of y to (n_samples, ), for example using ravel().\n",
      "  return f(*args, **kwargs)\n",
      "C:\\Users\\User-1\\Anaconda3\\envs\\tfod\\lib\\site-packages\\sklearn\\utils\\validation.py:63: DataConversionWarning: A column-vector y was passed when a 1d array was expected. Please change the shape of y to (n_samples, ), for example using ravel().\n",
      "  return f(*args, **kwargs)\n",
      "C:\\Users\\User-1\\Anaconda3\\envs\\tfod\\lib\\site-packages\\sklearn\\utils\\validation.py:63: DataConversionWarning: A column-vector y was passed when a 1d array was expected. Please change the shape of y to (n_samples, ), for example using ravel().\n",
      "  return f(*args, **kwargs)\n",
      "C:\\Users\\User-1\\Anaconda3\\envs\\tfod\\lib\\site-packages\\sklearn\\utils\\validation.py:63: DataConversionWarning: A column-vector y was passed when a 1d array was expected. Please change the shape of y to (n_samples, ), for example using ravel().\n",
      "  return f(*args, **kwargs)\n",
      "C:\\Users\\User-1\\Anaconda3\\envs\\tfod\\lib\\site-packages\\sklearn\\utils\\validation.py:63: DataConversionWarning: A column-vector y was passed when a 1d array was expected. Please change the shape of y to (n_samples, ), for example using ravel().\n",
      "  return f(*args, **kwargs)\n",
      "C:\\Users\\User-1\\Anaconda3\\envs\\tfod\\lib\\site-packages\\sklearn\\utils\\validation.py:63: DataConversionWarning: A column-vector y was passed when a 1d array was expected. Please change the shape of y to (n_samples, ), for example using ravel().\n",
      "  return f(*args, **kwargs)\n",
      "C:\\Users\\User-1\\Anaconda3\\envs\\tfod\\lib\\site-packages\\sklearn\\utils\\validation.py:63: DataConversionWarning: A column-vector y was passed when a 1d array was expected. Please change the shape of y to (n_samples, ), for example using ravel().\n",
      "  return f(*args, **kwargs)\n",
      "C:\\Users\\User-1\\Anaconda3\\envs\\tfod\\lib\\site-packages\\sklearn\\utils\\validation.py:63: DataConversionWarning: A column-vector y was passed when a 1d array was expected. Please change the shape of y to (n_samples, ), for example using ravel().\n",
      "  return f(*args, **kwargs)\n",
      "C:\\Users\\User-1\\Anaconda3\\envs\\tfod\\lib\\site-packages\\sklearn\\utils\\validation.py:63: DataConversionWarning: A column-vector y was passed when a 1d array was expected. Please change the shape of y to (n_samples, ), for example using ravel().\n",
      "  return f(*args, **kwargs)\n",
      "C:\\Users\\User-1\\Anaconda3\\envs\\tfod\\lib\\site-packages\\sklearn\\utils\\validation.py:63: DataConversionWarning: A column-vector y was passed when a 1d array was expected. Please change the shape of y to (n_samples, ), for example using ravel().\n",
      "  return f(*args, **kwargs)\n",
      "C:\\Users\\User-1\\Anaconda3\\envs\\tfod\\lib\\site-packages\\sklearn\\utils\\validation.py:63: DataConversionWarning: A column-vector y was passed when a 1d array was expected. Please change the shape of y to (n_samples, ), for example using ravel().\n",
      "  return f(*args, **kwargs)\n",
      "C:\\Users\\User-1\\Anaconda3\\envs\\tfod\\lib\\site-packages\\sklearn\\utils\\validation.py:63: DataConversionWarning: A column-vector y was passed when a 1d array was expected. Please change the shape of y to (n_samples, ), for example using ravel().\n",
      "  return f(*args, **kwargs)\n",
      "C:\\Users\\User-1\\Anaconda3\\envs\\tfod\\lib\\site-packages\\sklearn\\utils\\validation.py:63: DataConversionWarning: A column-vector y was passed when a 1d array was expected. Please change the shape of y to (n_samples, ), for example using ravel().\n",
      "  return f(*args, **kwargs)\n",
      "C:\\Users\\User-1\\Anaconda3\\envs\\tfod\\lib\\site-packages\\sklearn\\utils\\validation.py:63: DataConversionWarning: A column-vector y was passed when a 1d array was expected. Please change the shape of y to (n_samples, ), for example using ravel().\n",
      "  return f(*args, **kwargs)\n",
      "C:\\Users\\User-1\\Anaconda3\\envs\\tfod\\lib\\site-packages\\sklearn\\utils\\validation.py:63: DataConversionWarning: A column-vector y was passed when a 1d array was expected. Please change the shape of y to (n_samples, ), for example using ravel().\n",
      "  return f(*args, **kwargs)\n",
      "C:\\Users\\User-1\\Anaconda3\\envs\\tfod\\lib\\site-packages\\sklearn\\utils\\validation.py:63: DataConversionWarning: A column-vector y was passed when a 1d array was expected. Please change the shape of y to (n_samples, ), for example using ravel().\n",
      "  return f(*args, **kwargs)\n",
      "C:\\Users\\User-1\\Anaconda3\\envs\\tfod\\lib\\site-packages\\sklearn\\utils\\validation.py:63: DataConversionWarning: A column-vector y was passed when a 1d array was expected. Please change the shape of y to (n_samples, ), for example using ravel().\n",
      "  return f(*args, **kwargs)\n",
      "C:\\Users\\User-1\\Anaconda3\\envs\\tfod\\lib\\site-packages\\sklearn\\utils\\validation.py:63: DataConversionWarning: A column-vector y was passed when a 1d array was expected. Please change the shape of y to (n_samples, ), for example using ravel().\n",
      "  return f(*args, **kwargs)\n",
      "C:\\Users\\User-1\\Anaconda3\\envs\\tfod\\lib\\site-packages\\sklearn\\utils\\validation.py:63: DataConversionWarning: A column-vector y was passed when a 1d array was expected. Please change the shape of y to (n_samples, ), for example using ravel().\n",
      "  return f(*args, **kwargs)\n",
      "C:\\Users\\User-1\\Anaconda3\\envs\\tfod\\lib\\site-packages\\sklearn\\utils\\validation.py:63: DataConversionWarning: A column-vector y was passed when a 1d array was expected. Please change the shape of y to (n_samples, ), for example using ravel().\n",
      "  return f(*args, **kwargs)\n",
      "C:\\Users\\User-1\\Anaconda3\\envs\\tfod\\lib\\site-packages\\sklearn\\utils\\validation.py:63: DataConversionWarning: A column-vector y was passed when a 1d array was expected. Please change the shape of y to (n_samples, ), for example using ravel().\n",
      "  return f(*args, **kwargs)\n",
      "C:\\Users\\User-1\\Anaconda3\\envs\\tfod\\lib\\site-packages\\sklearn\\utils\\validation.py:63: DataConversionWarning: A column-vector y was passed when a 1d array was expected. Please change the shape of y to (n_samples, ), for example using ravel().\n",
      "  return f(*args, **kwargs)\n",
      "C:\\Users\\User-1\\Anaconda3\\envs\\tfod\\lib\\site-packages\\sklearn\\utils\\validation.py:63: DataConversionWarning: A column-vector y was passed when a 1d array was expected. Please change the shape of y to (n_samples, ), for example using ravel().\n",
      "  return f(*args, **kwargs)\n",
      "C:\\Users\\User-1\\Anaconda3\\envs\\tfod\\lib\\site-packages\\sklearn\\utils\\validation.py:63: DataConversionWarning: A column-vector y was passed when a 1d array was expected. Please change the shape of y to (n_samples, ), for example using ravel().\n",
      "  return f(*args, **kwargs)\n",
      "C:\\Users\\User-1\\Anaconda3\\envs\\tfod\\lib\\site-packages\\sklearn\\utils\\validation.py:63: DataConversionWarning: A column-vector y was passed when a 1d array was expected. Please change the shape of y to (n_samples, ), for example using ravel().\n",
      "  return f(*args, **kwargs)\n",
      "C:\\Users\\User-1\\Anaconda3\\envs\\tfod\\lib\\site-packages\\sklearn\\utils\\validation.py:63: DataConversionWarning: A column-vector y was passed when a 1d array was expected. Please change the shape of y to (n_samples, ), for example using ravel().\n",
      "  return f(*args, **kwargs)\n",
      "C:\\Users\\User-1\\Anaconda3\\envs\\tfod\\lib\\site-packages\\sklearn\\utils\\validation.py:63: DataConversionWarning: A column-vector y was passed when a 1d array was expected. Please change the shape of y to (n_samples, ), for example using ravel().\n",
      "  return f(*args, **kwargs)\n",
      "C:\\Users\\User-1\\Anaconda3\\envs\\tfod\\lib\\site-packages\\sklearn\\utils\\validation.py:63: DataConversionWarning: A column-vector y was passed when a 1d array was expected. Please change the shape of y to (n_samples, ), for example using ravel().\n",
      "  return f(*args, **kwargs)\n",
      "C:\\Users\\User-1\\Anaconda3\\envs\\tfod\\lib\\site-packages\\sklearn\\utils\\validation.py:63: DataConversionWarning: A column-vector y was passed when a 1d array was expected. Please change the shape of y to (n_samples, ), for example using ravel().\n",
      "  return f(*args, **kwargs)\n",
      "C:\\Users\\User-1\\Anaconda3\\envs\\tfod\\lib\\site-packages\\sklearn\\utils\\validation.py:63: DataConversionWarning: A column-vector y was passed when a 1d array was expected. Please change the shape of y to (n_samples, ), for example using ravel().\n",
      "  return f(*args, **kwargs)\n",
      "C:\\Users\\User-1\\Anaconda3\\envs\\tfod\\lib\\site-packages\\sklearn\\utils\\validation.py:63: DataConversionWarning: A column-vector y was passed when a 1d array was expected. Please change the shape of y to (n_samples, ), for example using ravel().\n",
      "  return f(*args, **kwargs)\n",
      "C:\\Users\\User-1\\Anaconda3\\envs\\tfod\\lib\\site-packages\\sklearn\\utils\\validation.py:63: DataConversionWarning: A column-vector y was passed when a 1d array was expected. Please change the shape of y to (n_samples, ), for example using ravel().\n",
      "  return f(*args, **kwargs)\n",
      "C:\\Users\\User-1\\Anaconda3\\envs\\tfod\\lib\\site-packages\\sklearn\\utils\\validation.py:63: DataConversionWarning: A column-vector y was passed when a 1d array was expected. Please change the shape of y to (n_samples, ), for example using ravel().\n",
      "  return f(*args, **kwargs)\n",
      "C:\\Users\\User-1\\Anaconda3\\envs\\tfod\\lib\\site-packages\\sklearn\\utils\\validation.py:63: DataConversionWarning: A column-vector y was passed when a 1d array was expected. Please change the shape of y to (n_samples, ), for example using ravel().\n",
      "  return f(*args, **kwargs)\n",
      "C:\\Users\\User-1\\Anaconda3\\envs\\tfod\\lib\\site-packages\\sklearn\\utils\\validation.py:63: DataConversionWarning: A column-vector y was passed when a 1d array was expected. Please change the shape of y to (n_samples, ), for example using ravel().\n",
      "  return f(*args, **kwargs)\n",
      "C:\\Users\\User-1\\Anaconda3\\envs\\tfod\\lib\\site-packages\\sklearn\\utils\\validation.py:63: DataConversionWarning: A column-vector y was passed when a 1d array was expected. Please change the shape of y to (n_samples, ), for example using ravel().\n",
      "  return f(*args, **kwargs)\n",
      "C:\\Users\\User-1\\Anaconda3\\envs\\tfod\\lib\\site-packages\\sklearn\\utils\\validation.py:63: DataConversionWarning: A column-vector y was passed when a 1d array was expected. Please change the shape of y to (n_samples, ), for example using ravel().\n",
      "  return f(*args, **kwargs)\n",
      "C:\\Users\\User-1\\Anaconda3\\envs\\tfod\\lib\\site-packages\\sklearn\\utils\\validation.py:63: DataConversionWarning: A column-vector y was passed when a 1d array was expected. Please change the shape of y to (n_samples, ), for example using ravel().\n",
      "  return f(*args, **kwargs)\n",
      "C:\\Users\\User-1\\Anaconda3\\envs\\tfod\\lib\\site-packages\\sklearn\\utils\\validation.py:63: DataConversionWarning: A column-vector y was passed when a 1d array was expected. Please change the shape of y to (n_samples, ), for example using ravel().\n",
      "  return f(*args, **kwargs)\n",
      "C:\\Users\\User-1\\Anaconda3\\envs\\tfod\\lib\\site-packages\\sklearn\\utils\\validation.py:63: DataConversionWarning: A column-vector y was passed when a 1d array was expected. Please change the shape of y to (n_samples, ), for example using ravel().\n",
      "  return f(*args, **kwargs)\n",
      "C:\\Users\\User-1\\Anaconda3\\envs\\tfod\\lib\\site-packages\\sklearn\\utils\\validation.py:63: DataConversionWarning: A column-vector y was passed when a 1d array was expected. Please change the shape of y to (n_samples, ), for example using ravel().\n",
      "  return f(*args, **kwargs)\n",
      "C:\\Users\\User-1\\Anaconda3\\envs\\tfod\\lib\\site-packages\\sklearn\\utils\\validation.py:63: DataConversionWarning: A column-vector y was passed when a 1d array was expected. Please change the shape of y to (n_samples, ), for example using ravel().\n",
      "  return f(*args, **kwargs)\n",
      "C:\\Users\\User-1\\Anaconda3\\envs\\tfod\\lib\\site-packages\\sklearn\\utils\\validation.py:63: DataConversionWarning: A column-vector y was passed when a 1d array was expected. Please change the shape of y to (n_samples, ), for example using ravel().\n",
      "  return f(*args, **kwargs)\n",
      "C:\\Users\\User-1\\Anaconda3\\envs\\tfod\\lib\\site-packages\\sklearn\\utils\\validation.py:63: DataConversionWarning: A column-vector y was passed when a 1d array was expected. Please change the shape of y to (n_samples, ), for example using ravel().\n",
      "  return f(*args, **kwargs)\n",
      "C:\\Users\\User-1\\Anaconda3\\envs\\tfod\\lib\\site-packages\\sklearn\\utils\\validation.py:63: DataConversionWarning: A column-vector y was passed when a 1d array was expected. Please change the shape of y to (n_samples, ), for example using ravel().\n",
      "  return f(*args, **kwargs)\n",
      "C:\\Users\\User-1\\Anaconda3\\envs\\tfod\\lib\\site-packages\\sklearn\\utils\\validation.py:63: DataConversionWarning: A column-vector y was passed when a 1d array was expected. Please change the shape of y to (n_samples, ), for example using ravel().\n",
      "  return f(*args, **kwargs)\n",
      "C:\\Users\\User-1\\Anaconda3\\envs\\tfod\\lib\\site-packages\\sklearn\\utils\\validation.py:63: DataConversionWarning: A column-vector y was passed when a 1d array was expected. Please change the shape of y to (n_samples, ), for example using ravel().\n",
      "  return f(*args, **kwargs)\n",
      "C:\\Users\\User-1\\Anaconda3\\envs\\tfod\\lib\\site-packages\\sklearn\\utils\\validation.py:63: DataConversionWarning: A column-vector y was passed when a 1d array was expected. Please change the shape of y to (n_samples, ), for example using ravel().\n",
      "  return f(*args, **kwargs)\n",
      "C:\\Users\\User-1\\Anaconda3\\envs\\tfod\\lib\\site-packages\\sklearn\\utils\\validation.py:63: DataConversionWarning: A column-vector y was passed when a 1d array was expected. Please change the shape of y to (n_samples, ), for example using ravel().\n",
      "  return f(*args, **kwargs)\n",
      "C:\\Users\\User-1\\Anaconda3\\envs\\tfod\\lib\\site-packages\\sklearn\\utils\\validation.py:63: DataConversionWarning: A column-vector y was passed when a 1d array was expected. Please change the shape of y to (n_samples, ), for example using ravel().\n",
      "  return f(*args, **kwargs)\n",
      "C:\\Users\\User-1\\Anaconda3\\envs\\tfod\\lib\\site-packages\\sklearn\\utils\\validation.py:63: DataConversionWarning: A column-vector y was passed when a 1d array was expected. Please change the shape of y to (n_samples, ), for example using ravel().\n",
      "  return f(*args, **kwargs)\n",
      "C:\\Users\\User-1\\Anaconda3\\envs\\tfod\\lib\\site-packages\\sklearn\\utils\\validation.py:63: DataConversionWarning: A column-vector y was passed when a 1d array was expected. Please change the shape of y to (n_samples, ), for example using ravel().\n",
      "  return f(*args, **kwargs)\n",
      "C:\\Users\\User-1\\Anaconda3\\envs\\tfod\\lib\\site-packages\\sklearn\\utils\\validation.py:63: DataConversionWarning: A column-vector y was passed when a 1d array was expected. Please change the shape of y to (n_samples, ), for example using ravel().\n",
      "  return f(*args, **kwargs)\n",
      "C:\\Users\\User-1\\Anaconda3\\envs\\tfod\\lib\\site-packages\\sklearn\\utils\\validation.py:63: DataConversionWarning: A column-vector y was passed when a 1d array was expected. Please change the shape of y to (n_samples, ), for example using ravel().\n",
      "  return f(*args, **kwargs)\n",
      "C:\\Users\\User-1\\Anaconda3\\envs\\tfod\\lib\\site-packages\\sklearn\\utils\\validation.py:63: DataConversionWarning: A column-vector y was passed when a 1d array was expected. Please change the shape of y to (n_samples, ), for example using ravel().\n",
      "  return f(*args, **kwargs)\n",
      "C:\\Users\\User-1\\Anaconda3\\envs\\tfod\\lib\\site-packages\\sklearn\\utils\\validation.py:63: DataConversionWarning: A column-vector y was passed when a 1d array was expected. Please change the shape of y to (n_samples, ), for example using ravel().\n",
      "  return f(*args, **kwargs)\n",
      "C:\\Users\\User-1\\Anaconda3\\envs\\tfod\\lib\\site-packages\\sklearn\\utils\\validation.py:63: DataConversionWarning: A column-vector y was passed when a 1d array was expected. Please change the shape of y to (n_samples, ), for example using ravel().\n",
      "  return f(*args, **kwargs)\n",
      "C:\\Users\\User-1\\Anaconda3\\envs\\tfod\\lib\\site-packages\\sklearn\\utils\\validation.py:63: DataConversionWarning: A column-vector y was passed when a 1d array was expected. Please change the shape of y to (n_samples, ), for example using ravel().\n",
      "  return f(*args, **kwargs)\n",
      "C:\\Users\\User-1\\Anaconda3\\envs\\tfod\\lib\\site-packages\\sklearn\\utils\\validation.py:63: DataConversionWarning: A column-vector y was passed when a 1d array was expected. Please change the shape of y to (n_samples, ), for example using ravel().\n",
      "  return f(*args, **kwargs)\n",
      "C:\\Users\\User-1\\Anaconda3\\envs\\tfod\\lib\\site-packages\\sklearn\\utils\\validation.py:63: DataConversionWarning: A column-vector y was passed when a 1d array was expected. Please change the shape of y to (n_samples, ), for example using ravel().\n",
      "  return f(*args, **kwargs)\n",
      "C:\\Users\\User-1\\Anaconda3\\envs\\tfod\\lib\\site-packages\\sklearn\\utils\\validation.py:63: DataConversionWarning: A column-vector y was passed when a 1d array was expected. Please change the shape of y to (n_samples, ), for example using ravel().\n",
      "  return f(*args, **kwargs)\n",
      "C:\\Users\\User-1\\Anaconda3\\envs\\tfod\\lib\\site-packages\\sklearn\\utils\\validation.py:63: DataConversionWarning: A column-vector y was passed when a 1d array was expected. Please change the shape of y to (n_samples, ), for example using ravel().\n",
      "  return f(*args, **kwargs)\n",
      "C:\\Users\\User-1\\Anaconda3\\envs\\tfod\\lib\\site-packages\\sklearn\\utils\\validation.py:63: DataConversionWarning: A column-vector y was passed when a 1d array was expected. Please change the shape of y to (n_samples, ), for example using ravel().\n",
      "  return f(*args, **kwargs)\n",
      "C:\\Users\\User-1\\Anaconda3\\envs\\tfod\\lib\\site-packages\\sklearn\\utils\\validation.py:63: DataConversionWarning: A column-vector y was passed when a 1d array was expected. Please change the shape of y to (n_samples, ), for example using ravel().\n",
      "  return f(*args, **kwargs)\n"
     ]
    }
   ],
   "source": [
    "model = GradientBoostingRegressor(n_estimators=100, learning_rate=0.1, max_depth=3)\n",
    "\n",
    "\n",
    "# Define the batch size\n",
    "batch_size = 20000\n",
    "li = []\n",
    "# Loop over the dataset in batches\n",
    "for i in range(0, len(y_train), batch_size):\n",
    "    X_batch = df_train[i:i+batch_size]\n",
    "    y_batch = y_train[i:i+batch_size]\n",
    "    \n",
    "    # Train on the batch\n",
    "    model.fit(X_batch, y_batch)\n",
    "    li.append(model)\n",
    "    \n",
    "y_pred = np.mean([gbr.predict(df_test) for gbr in li], axis=0)"
   ]
  },
  {
   "cell_type": "code",
   "execution_count": 92,
   "id": "restricted-arctic",
   "metadata": {},
   "outputs": [],
   "source": [
    "y_pred = pd.DataFrame(y_pred)\n",
    "y_pred.to_csv(r'C:\\Users\\User-1\\Downloads\\Amazon ML Challenge\\submit1.csv')"
   ]
  },
  {
   "cell_type": "markdown",
   "id": "blind-coalition",
   "metadata": {},
   "source": [
    "## Glove"
   ]
  },
  {
   "cell_type": "code",
   "execution_count": null,
   "id": "fabulous-motivation",
   "metadata": {},
   "outputs": [],
   "source": []
  }
 ],
 "metadata": {
  "kernelspec": {
   "display_name": "Python 3",
   "language": "python",
   "name": "python3"
  },
  "language_info": {
   "codemirror_mode": {
    "name": "ipython",
    "version": 3
   },
   "file_extension": ".py",
   "mimetype": "text/x-python",
   "name": "python",
   "nbconvert_exporter": "python",
   "pygments_lexer": "ipython3",
   "version": "3.8.8"
  }
 },
 "nbformat": 4,
 "nbformat_minor": 5
}
