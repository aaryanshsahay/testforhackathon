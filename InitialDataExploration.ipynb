{
 "cells": [
  {
   "cell_type": "code",
   "execution_count": 1,
   "id": "059eab03",
   "metadata": {},
   "outputs": [],
   "source": [
    "import pandas as pd\n",
    "import numpy as np\n",
    "import matplotlib.pyplot as plt\n",
    "import seaborn as sns\n",
    "from wordcloud import WordCloud, STOPWORDS\n",
    "\n",
    "%matplotlib inline"
   ]
  },
  {
   "cell_type": "code",
   "execution_count": 3,
   "id": "2091efc6",
   "metadata": {},
   "outputs": [
    {
     "data": {
      "text/html": [
       "<div>\n",
       "<style scoped>\n",
       "    .dataframe tbody tr th:only-of-type {\n",
       "        vertical-align: middle;\n",
       "    }\n",
       "\n",
       "    .dataframe tbody tr th {\n",
       "        vertical-align: top;\n",
       "    }\n",
       "\n",
       "    .dataframe thead th {\n",
       "        text-align: right;\n",
       "    }\n",
       "</style>\n",
       "<table border=\"1\" class=\"dataframe\">\n",
       "  <thead>\n",
       "    <tr style=\"text-align: right;\">\n",
       "      <th></th>\n",
       "      <th>PRODUCT_ID</th>\n",
       "      <th>TITLE</th>\n",
       "      <th>BULLET_POINTS</th>\n",
       "      <th>DESCRIPTION</th>\n",
       "      <th>PRODUCT_TYPE_ID</th>\n",
       "      <th>PRODUCT_LENGTH</th>\n",
       "    </tr>\n",
       "  </thead>\n",
       "  <tbody>\n",
       "    <tr>\n",
       "      <th>0</th>\n",
       "      <td>1925202</td>\n",
       "      <td>ArtzFolio Tulip Flowers Blackout Curtain for D...</td>\n",
       "      <td>[LUXURIOUS &amp; APPEALING: Beautiful custom-made ...</td>\n",
       "      <td>NaN</td>\n",
       "      <td>1650</td>\n",
       "      <td>2125.980000</td>\n",
       "    </tr>\n",
       "    <tr>\n",
       "      <th>1</th>\n",
       "      <td>2673191</td>\n",
       "      <td>Marks &amp; Spencer Girls' Pyjama Sets T86_2561C_N...</td>\n",
       "      <td>[Harry Potter Hedwig Pyjamas (6-16 Yrs),100% c...</td>\n",
       "      <td>NaN</td>\n",
       "      <td>2755</td>\n",
       "      <td>393.700000</td>\n",
       "    </tr>\n",
       "    <tr>\n",
       "      <th>2</th>\n",
       "      <td>2765088</td>\n",
       "      <td>PRIKNIK Horn Red Electric Air Horn Compressor ...</td>\n",
       "      <td>[Loud Dual Tone Trumpet Horn, Compatible With ...</td>\n",
       "      <td>Specifications: Color: Red, Material: Aluminiu...</td>\n",
       "      <td>7537</td>\n",
       "      <td>748.031495</td>\n",
       "    </tr>\n",
       "    <tr>\n",
       "      <th>3</th>\n",
       "      <td>1594019</td>\n",
       "      <td>ALISHAH Women's Cotton Ankle Length Leggings C...</td>\n",
       "      <td>[Made By 95%cotton and 5% Lycra which gives yo...</td>\n",
       "      <td>AISHAH Women's Lycra Cotton Ankel Leggings. Br...</td>\n",
       "      <td>2996</td>\n",
       "      <td>787.401574</td>\n",
       "    </tr>\n",
       "    <tr>\n",
       "      <th>4</th>\n",
       "      <td>283658</td>\n",
       "      <td>The United Empire Loyalists: A Chronicle of th...</td>\n",
       "      <td>NaN</td>\n",
       "      <td>NaN</td>\n",
       "      <td>6112</td>\n",
       "      <td>598.424000</td>\n",
       "    </tr>\n",
       "  </tbody>\n",
       "</table>\n",
       "</div>"
      ],
      "text/plain": [
       "   PRODUCT_ID                                              TITLE  \\\n",
       "0     1925202  ArtzFolio Tulip Flowers Blackout Curtain for D...   \n",
       "1     2673191  Marks & Spencer Girls' Pyjama Sets T86_2561C_N...   \n",
       "2     2765088  PRIKNIK Horn Red Electric Air Horn Compressor ...   \n",
       "3     1594019  ALISHAH Women's Cotton Ankle Length Leggings C...   \n",
       "4      283658  The United Empire Loyalists: A Chronicle of th...   \n",
       "\n",
       "                                       BULLET_POINTS  \\\n",
       "0  [LUXURIOUS & APPEALING: Beautiful custom-made ...   \n",
       "1  [Harry Potter Hedwig Pyjamas (6-16 Yrs),100% c...   \n",
       "2  [Loud Dual Tone Trumpet Horn, Compatible With ...   \n",
       "3  [Made By 95%cotton and 5% Lycra which gives yo...   \n",
       "4                                                NaN   \n",
       "\n",
       "                                         DESCRIPTION  PRODUCT_TYPE_ID  \\\n",
       "0                                                NaN             1650   \n",
       "1                                                NaN             2755   \n",
       "2  Specifications: Color: Red, Material: Aluminiu...             7537   \n",
       "3  AISHAH Women's Lycra Cotton Ankel Leggings. Br...             2996   \n",
       "4                                                NaN             6112   \n",
       "\n",
       "   PRODUCT_LENGTH  \n",
       "0     2125.980000  \n",
       "1      393.700000  \n",
       "2      748.031495  \n",
       "3      787.401574  \n",
       "4      598.424000  "
      ]
     },
     "execution_count": 3,
     "metadata": {},
     "output_type": "execute_result"
    }
   ],
   "source": [
    "path = r\"C:\\Users\\sahay\\Desktop\\aaryansh\\amazon ml\\dataset\\train.csv\"\n",
    "data = pd.read_csv(path)\n",
    "data.head()"
   ]
  },
  {
   "cell_type": "code",
   "execution_count": 42,
   "id": "73be3c78",
   "metadata": {},
   "outputs": [
    {
     "data": {
      "text/plain": [
       "(2249686, 6)"
      ]
     },
     "execution_count": 42,
     "metadata": {},
     "output_type": "execute_result"
    }
   ],
   "source": [
    "data.shape"
   ]
  },
  {
   "cell_type": "code",
   "execution_count": 4,
   "id": "37bad23c",
   "metadata": {},
   "outputs": [
    {
     "data": {
      "text/html": [
       "<div>\n",
       "<style scoped>\n",
       "    .dataframe tbody tr th:only-of-type {\n",
       "        vertical-align: middle;\n",
       "    }\n",
       "\n",
       "    .dataframe tbody tr th {\n",
       "        vertical-align: top;\n",
       "    }\n",
       "\n",
       "    .dataframe thead th {\n",
       "        text-align: right;\n",
       "    }\n",
       "</style>\n",
       "<table border=\"1\" class=\"dataframe\">\n",
       "  <thead>\n",
       "    <tr style=\"text-align: right;\">\n",
       "      <th></th>\n",
       "      <th>Features</th>\n",
       "      <th>Missing_Values</th>\n",
       "      <th>Percentage %</th>\n",
       "    </tr>\n",
       "  </thead>\n",
       "  <tbody>\n",
       "    <tr>\n",
       "      <th>0</th>\n",
       "      <td>PRODUCT_ID</td>\n",
       "      <td>0</td>\n",
       "      <td>0.000000</td>\n",
       "    </tr>\n",
       "    <tr>\n",
       "      <th>1</th>\n",
       "      <td>TITLE</td>\n",
       "      <td>12</td>\n",
       "      <td>0.000533</td>\n",
       "    </tr>\n",
       "    <tr>\n",
       "      <th>2</th>\n",
       "      <td>BULLET_POINTS</td>\n",
       "      <td>837364</td>\n",
       "      <td>37.221174</td>\n",
       "    </tr>\n",
       "    <tr>\n",
       "      <th>3</th>\n",
       "      <td>DESCRIPTION</td>\n",
       "      <td>1157381</td>\n",
       "      <td>51.446061</td>\n",
       "    </tr>\n",
       "    <tr>\n",
       "      <th>4</th>\n",
       "      <td>PRODUCT_TYPE_ID</td>\n",
       "      <td>0</td>\n",
       "      <td>0.000000</td>\n",
       "    </tr>\n",
       "    <tr>\n",
       "      <th>5</th>\n",
       "      <td>PRODUCT_LENGTH</td>\n",
       "      <td>0</td>\n",
       "      <td>0.000000</td>\n",
       "    </tr>\n",
       "  </tbody>\n",
       "</table>\n",
       "</div>"
      ],
      "text/plain": [
       "          Features  Missing_Values  Percentage %\n",
       "0       PRODUCT_ID               0      0.000000\n",
       "1            TITLE              12      0.000533\n",
       "2    BULLET_POINTS          837364     37.221174\n",
       "3      DESCRIPTION         1157381     51.446061\n",
       "4  PRODUCT_TYPE_ID               0      0.000000\n",
       "5   PRODUCT_LENGTH               0      0.000000"
      ]
     },
     "execution_count": 4,
     "metadata": {},
     "output_type": "execute_result"
    }
   ],
   "source": [
    "na_value_df=data.isna().sum().reset_index()\n",
    "na_value_df.columns=[\"Features\",\"Missing_Values\"]\n",
    "na_value_df['Percentage %']=(na_value_df.Missing_Values/len(data))*100\n",
    "na_value_df"
   ]
  },
  {
   "cell_type": "code",
   "execution_count": 9,
   "id": "1b3b06f3",
   "metadata": {},
   "outputs": [],
   "source": [
    "# Drop title as only 12 na values.\n",
    "data = data.dropna(subset = [\"TITLE\"])"
   ]
  },
  {
   "cell_type": "code",
   "execution_count": 10,
   "id": "440af122",
   "metadata": {},
   "outputs": [
    {
     "data": {
      "text/plain": [
       "0"
      ]
     },
     "execution_count": 10,
     "metadata": {},
     "output_type": "execute_result"
    }
   ],
   "source": [
    "data['TITLE'].isna().sum()"
   ]
  },
  {
   "cell_type": "code",
   "execution_count": 41,
   "id": "429e2bb8",
   "metadata": {},
   "outputs": [
    {
     "data": {
      "text/plain": [
       "34.826949183130445"
      ]
     },
     "execution_count": 41,
     "metadata": {},
     "output_type": "execute_result"
    }
   ],
   "source": [
    "len(data[data[[\"BULLET_POINTS\",\"DESCRIPTION\"]].isna().all(axis=1)])/len(data)*100"
   ]
  },
  {
   "cell_type": "code",
   "execution_count": 13,
   "id": "937dc62a",
   "metadata": {},
   "outputs": [],
   "source": [
    "# Getting number of rows where both description & bullet points are empty\n",
    "data_empty = data[(data['BULLET_POINTS'].isnull() == True ) & (data['DESCRIPTION'].isnull == True)]"
   ]
  },
  {
   "cell_type": "code",
   "execution_count": 14,
   "id": "b7b15b51",
   "metadata": {},
   "outputs": [
    {
     "data": {
      "text/html": [
       "<div>\n",
       "<style scoped>\n",
       "    .dataframe tbody tr th:only-of-type {\n",
       "        vertical-align: middle;\n",
       "    }\n",
       "\n",
       "    .dataframe tbody tr th {\n",
       "        vertical-align: top;\n",
       "    }\n",
       "\n",
       "    .dataframe thead th {\n",
       "        text-align: right;\n",
       "    }\n",
       "</style>\n",
       "<table border=\"1\" class=\"dataframe\">\n",
       "  <thead>\n",
       "    <tr style=\"text-align: right;\">\n",
       "      <th></th>\n",
       "      <th>PRODUCT_ID</th>\n",
       "      <th>TITLE</th>\n",
       "      <th>BULLET_POINTS</th>\n",
       "      <th>DESCRIPTION</th>\n",
       "      <th>PRODUCT_TYPE_ID</th>\n",
       "      <th>PRODUCT_LENGTH</th>\n",
       "    </tr>\n",
       "  </thead>\n",
       "  <tbody>\n",
       "  </tbody>\n",
       "</table>\n",
       "</div>"
      ],
      "text/plain": [
       "Empty DataFrame\n",
       "Columns: [PRODUCT_ID, TITLE, BULLET_POINTS, DESCRIPTION, PRODUCT_TYPE_ID, PRODUCT_LENGTH]\n",
       "Index: []"
      ]
     },
     "execution_count": 14,
     "metadata": {},
     "output_type": "execute_result"
    }
   ],
   "source": [
    "data_empty"
   ]
  },
  {
   "cell_type": "code",
   "execution_count": 15,
   "id": "4326ed9b",
   "metadata": {},
   "outputs": [],
   "source": [
    "# No entries have both description & bulletpoints emppty."
   ]
  },
  {
   "cell_type": "code",
   "execution_count": 33,
   "id": "02bf86c2",
   "metadata": {},
   "outputs": [
    {
     "data": {
      "text/plain": [
       "6587"
      ]
     },
     "execution_count": 33,
     "metadata": {},
     "output_type": "execute_result"
    }
   ],
   "source": [
    "product_type = list(data['PRODUCT_TYPE_ID'].value_counts())\n",
    "product_type = [i for i in product_type if i > 10]\n",
    "len(product_type)"
   ]
  },
  {
   "cell_type": "code",
   "execution_count": 23,
   "id": "55421c2b",
   "metadata": {},
   "outputs": [],
   "source": [
    "# ~6k entries have less than or equal to 10 observations"
   ]
  },
  {
   "cell_type": "code",
   "execution_count": 30,
   "id": "a1a881d9",
   "metadata": {},
   "outputs": [
    {
     "data": {
      "text/plain": [
       "2259"
      ]
     },
     "execution_count": 30,
     "metadata": {},
     "output_type": "execute_result"
    }
   ],
   "source": [
    "product_type = list(data['PRODUCT_TYPE_ID'].value_counts())\n",
    "product_type = [i for i in product_type if i > 100]\n",
    "len(product_type)"
   ]
  },
  {
   "cell_type": "code",
   "execution_count": 25,
   "id": "614cdd86",
   "metadata": {},
   "outputs": [],
   "source": [
    "# 2259 unique product type ids with count greater than 100"
   ]
  },
  {
   "cell_type": "code",
   "execution_count": 26,
   "id": "9baebbdc",
   "metadata": {},
   "outputs": [
    {
     "data": {
      "text/plain": [
       "684"
      ]
     },
     "execution_count": 26,
     "metadata": {},
     "output_type": "execute_result"
    }
   ],
   "source": [
    "product_type = list(data['PRODUCT_TYPE_ID'].value_counts())\n",
    "product_type = [i for i in product_type if i > 500]\n",
    "len(product_type)"
   ]
  },
  {
   "cell_type": "code",
   "execution_count": 27,
   "id": "bf7cfd07",
   "metadata": {},
   "outputs": [],
   "source": [
    "# 684 unique product type ids with count greater than 100"
   ]
  },
  {
   "cell_type": "code",
   "execution_count": 34,
   "id": "b0e373e2",
   "metadata": {},
   "outputs": [
    {
     "data": {
      "text/html": [
       "<div>\n",
       "<style scoped>\n",
       "    .dataframe tbody tr th:only-of-type {\n",
       "        vertical-align: middle;\n",
       "    }\n",
       "\n",
       "    .dataframe tbody tr th {\n",
       "        vertical-align: top;\n",
       "    }\n",
       "\n",
       "    .dataframe thead th {\n",
       "        text-align: right;\n",
       "    }\n",
       "</style>\n",
       "<table border=\"1\" class=\"dataframe\">\n",
       "  <thead>\n",
       "    <tr style=\"text-align: right;\">\n",
       "      <th></th>\n",
       "      <th>PRODUCT_ID</th>\n",
       "      <th>TITLE</th>\n",
       "      <th>BULLET_POINTS</th>\n",
       "      <th>DESCRIPTION</th>\n",
       "      <th>PRODUCT_TYPE_ID</th>\n",
       "      <th>PRODUCT_LENGTH</th>\n",
       "    </tr>\n",
       "  </thead>\n",
       "  <tbody>\n",
       "    <tr>\n",
       "      <th>0</th>\n",
       "      <td>1925202</td>\n",
       "      <td>ArtzFolio Tulip Flowers Blackout Curtain for D...</td>\n",
       "      <td>[LUXURIOUS &amp; APPEALING: Beautiful custom-made ...</td>\n",
       "      <td>NaN</td>\n",
       "      <td>1650</td>\n",
       "      <td>2125.980000</td>\n",
       "    </tr>\n",
       "    <tr>\n",
       "      <th>6</th>\n",
       "      <td>413758</td>\n",
       "      <td>Ungifted: My Life and Journey</td>\n",
       "      <td>NaN</td>\n",
       "      <td>NaN</td>\n",
       "      <td>23</td>\n",
       "      <td>598.000000</td>\n",
       "    </tr>\n",
       "    <tr>\n",
       "      <th>13</th>\n",
       "      <td>1991694</td>\n",
       "      <td>Mediterranean diet for beginners: 7Benefits of...</td>\n",
       "      <td>NaN</td>\n",
       "      <td>NaN</td>\n",
       "      <td>32</td>\n",
       "      <td>600.000000</td>\n",
       "    </tr>\n",
       "    <tr>\n",
       "      <th>19</th>\n",
       "      <td>793582</td>\n",
       "      <td>MASTER OF THE RINGS</td>\n",
       "      <td>NaN</td>\n",
       "      <td>MASTER OF THE RINGS</td>\n",
       "      <td>716</td>\n",
       "      <td>750.000000</td>\n",
       "    </tr>\n",
       "    <tr>\n",
       "      <th>24</th>\n",
       "      <td>748018</td>\n",
       "      <td>Peru, Los Senderos Posibles</td>\n",
       "      <td>NaN</td>\n",
       "      <td>NaN</td>\n",
       "      <td>115</td>\n",
       "      <td>527.558000</td>\n",
       "    </tr>\n",
       "    <tr>\n",
       "      <th>...</th>\n",
       "      <td>...</td>\n",
       "      <td>...</td>\n",
       "      <td>...</td>\n",
       "      <td>...</td>\n",
       "      <td>...</td>\n",
       "      <td>...</td>\n",
       "    </tr>\n",
       "    <tr>\n",
       "      <th>2249688</th>\n",
       "      <td>575288</td>\n",
       "      <td>Along a Burning Highway</td>\n",
       "      <td>NaN</td>\n",
       "      <td>Welcome to the wonderfully Wicked World of Aut...</td>\n",
       "      <td>123</td>\n",
       "      <td>598.424000</td>\n",
       "    </tr>\n",
       "    <tr>\n",
       "      <th>2249689</th>\n",
       "      <td>1616561</td>\n",
       "      <td>Have It Tall Men's Curved Hem Long Drop Tail T...</td>\n",
       "      <td>[Light Weight 65% Polyester/ 35% Ring Spun Cot...</td>\n",
       "      <td>This extra long Tall t-Shirt will be your favo...</td>\n",
       "      <td>2879</td>\n",
       "      <td>1200.000000</td>\n",
       "    </tr>\n",
       "    <tr>\n",
       "      <th>2249690</th>\n",
       "      <td>1096345</td>\n",
       "      <td>United Colors of Benetton United Dreams Love Y...</td>\n",
       "      <td>[Quantity: 80ml; The new floral and feminine f...</td>\n",
       "      <td>NaN</td>\n",
       "      <td>253</td>\n",
       "      <td>600.000000</td>\n",
       "    </tr>\n",
       "    <tr>\n",
       "      <th>2249694</th>\n",
       "      <td>2766635</td>\n",
       "      <td>(3PCS) Goose Game Cute Cartoon Enamel Pins, Fu...</td>\n",
       "      <td>[❤ [Inspiration] Inspired by the Untitled Goos...</td>\n",
       "      <td>&lt;p&gt;&lt;b&gt;[Brand]: &lt;/b&gt;XVIEONR&lt;/p&gt; &lt;p&gt;&lt;br&gt;&lt;/p&gt; &lt;p&gt;...</td>\n",
       "      <td>3413</td>\n",
       "      <td>125.984252</td>\n",
       "    </tr>\n",
       "    <tr>\n",
       "      <th>2249696</th>\n",
       "      <td>1165754</td>\n",
       "      <td>Electro Voice EKX-BRKT15 | Wall Mount Bracket ...</td>\n",
       "      <td>NaN</td>\n",
       "      <td>NaN</td>\n",
       "      <td>592</td>\n",
       "      <td>2900.000000</td>\n",
       "    </tr>\n",
       "  </tbody>\n",
       "</table>\n",
       "<p>504836 rows × 6 columns</p>\n",
       "</div>"
      ],
      "text/plain": [
       "         PRODUCT_ID                                              TITLE  \\\n",
       "0           1925202  ArtzFolio Tulip Flowers Blackout Curtain for D...   \n",
       "6            413758                      Ungifted: My Life and Journey   \n",
       "13          1991694  Mediterranean diet for beginners: 7Benefits of...   \n",
       "19           793582                                MASTER OF THE RINGS   \n",
       "24           748018                        Peru, Los Senderos Posibles   \n",
       "...             ...                                                ...   \n",
       "2249688      575288                            Along a Burning Highway   \n",
       "2249689     1616561  Have It Tall Men's Curved Hem Long Drop Tail T...   \n",
       "2249690     1096345  United Colors of Benetton United Dreams Love Y...   \n",
       "2249694     2766635  (3PCS) Goose Game Cute Cartoon Enamel Pins, Fu...   \n",
       "2249696     1165754  Electro Voice EKX-BRKT15 | Wall Mount Bracket ...   \n",
       "\n",
       "                                             BULLET_POINTS  \\\n",
       "0        [LUXURIOUS & APPEALING: Beautiful custom-made ...   \n",
       "6                                                      NaN   \n",
       "13                                                     NaN   \n",
       "19                                                     NaN   \n",
       "24                                                     NaN   \n",
       "...                                                    ...   \n",
       "2249688                                                NaN   \n",
       "2249689  [Light Weight 65% Polyester/ 35% Ring Spun Cot...   \n",
       "2249690  [Quantity: 80ml; The new floral and feminine f...   \n",
       "2249694  [❤ [Inspiration] Inspired by the Untitled Goos...   \n",
       "2249696                                                NaN   \n",
       "\n",
       "                                               DESCRIPTION  PRODUCT_TYPE_ID  \\\n",
       "0                                                      NaN             1650   \n",
       "6                                                      NaN               23   \n",
       "13                                                     NaN               32   \n",
       "19                                     MASTER OF THE RINGS              716   \n",
       "24                                                     NaN              115   \n",
       "...                                                    ...              ...   \n",
       "2249688  Welcome to the wonderfully Wicked World of Aut...              123   \n",
       "2249689  This extra long Tall t-Shirt will be your favo...             2879   \n",
       "2249690                                                NaN              253   \n",
       "2249694  <p><b>[Brand]: </b>XVIEONR</p> <p><br></p> <p>...             3413   \n",
       "2249696                                                NaN              592   \n",
       "\n",
       "         PRODUCT_LENGTH  \n",
       "0           2125.980000  \n",
       "6            598.000000  \n",
       "13           600.000000  \n",
       "19           750.000000  \n",
       "24           527.558000  \n",
       "...                 ...  \n",
       "2249688      598.424000  \n",
       "2249689     1200.000000  \n",
       "2249690      600.000000  \n",
       "2249694      125.984252  \n",
       "2249696     2900.000000  \n",
       "\n",
       "[504836 rows x 6 columns]"
      ]
     },
     "execution_count": 34,
     "metadata": {},
     "output_type": "execute_result"
    }
   ],
   "source": [
    "data_count = data[data['PRODUCT_TYPE_ID'].isin(product_type)]\n",
    "data_count"
   ]
  },
  {
   "cell_type": "code",
   "execution_count": 35,
   "id": "ebc41b28",
   "metadata": {},
   "outputs": [
    {
     "data": {
      "text/plain": [
       "(504836, 6)"
      ]
     },
     "execution_count": 35,
     "metadata": {},
     "output_type": "execute_result"
    }
   ],
   "source": [
    "data_count.shape"
   ]
  },
  {
   "cell_type": "code",
   "execution_count": 36,
   "id": "6496ee2f",
   "metadata": {},
   "outputs": [
    {
     "data": {
      "text/plain": [
       "6320"
      ]
     },
     "execution_count": 36,
     "metadata": {},
     "output_type": "execute_result"
    }
   ],
   "source": [
    "product_type = list(data['PRODUCT_TYPE_ID'].value_counts())\n",
    "product_type = [i for i in product_type if i <= 10]\n",
    "len(product_type)"
   ]
  },
  {
   "cell_type": "code",
   "execution_count": 37,
   "id": "294793c3",
   "metadata": {},
   "outputs": [
    {
     "data": {
      "text/html": [
       "<div>\n",
       "<style scoped>\n",
       "    .dataframe tbody tr th:only-of-type {\n",
       "        vertical-align: middle;\n",
       "    }\n",
       "\n",
       "    .dataframe tbody tr th {\n",
       "        vertical-align: top;\n",
       "    }\n",
       "\n",
       "    .dataframe thead th {\n",
       "        text-align: right;\n",
       "    }\n",
       "</style>\n",
       "<table border=\"1\" class=\"dataframe\">\n",
       "  <thead>\n",
       "    <tr style=\"text-align: right;\">\n",
       "      <th></th>\n",
       "      <th>PRODUCT_ID</th>\n",
       "      <th>TITLE</th>\n",
       "      <th>BULLET_POINTS</th>\n",
       "      <th>DESCRIPTION</th>\n",
       "      <th>PRODUCT_TYPE_ID</th>\n",
       "      <th>PRODUCT_LENGTH</th>\n",
       "    </tr>\n",
       "  </thead>\n",
       "  <tbody>\n",
       "    <tr>\n",
       "      <th>11</th>\n",
       "      <td>833712</td>\n",
       "      <td>La Mure / Valbonnais gps</td>\n",
       "      <td>NaN</td>\n",
       "      <td>NaN</td>\n",
       "      <td>1</td>\n",
       "      <td>433.070</td>\n",
       "    </tr>\n",
       "    <tr>\n",
       "      <th>12</th>\n",
       "      <td>648364</td>\n",
       "      <td>J'ecris des lettres! premiers exercices d'écri...</td>\n",
       "      <td>NaN</td>\n",
       "      <td>NaN</td>\n",
       "      <td>1</td>\n",
       "      <td>759.841</td>\n",
       "    </tr>\n",
       "    <tr>\n",
       "      <th>15</th>\n",
       "      <td>1810976</td>\n",
       "      <td>Stone &amp; Beam Fan Embossed Planter in Blue, Medium</td>\n",
       "      <td>NaN</td>\n",
       "      <td>NaN</td>\n",
       "      <td>6</td>\n",
       "      <td>670.000</td>\n",
       "    </tr>\n",
       "    <tr>\n",
       "      <th>22</th>\n",
       "      <td>655356</td>\n",
       "      <td>100 clés des villes sœurs. Eu - Le Tréport - M...</td>\n",
       "      <td>NaN</td>\n",
       "      <td>NaN</td>\n",
       "      <td>1</td>\n",
       "      <td>539.369</td>\n",
       "    </tr>\n",
       "    <tr>\n",
       "      <th>45</th>\n",
       "      <td>699328</td>\n",
       "      <td>Duden Kindergarten Lexikon</td>\n",
       "      <td>NaN</td>\n",
       "      <td>NaN</td>\n",
       "      <td>1</td>\n",
       "      <td>909.447</td>\n",
       "    </tr>\n",
       "    <tr>\n",
       "      <th>...</th>\n",
       "      <td>...</td>\n",
       "      <td>...</td>\n",
       "      <td>...</td>\n",
       "      <td>...</td>\n",
       "      <td>...</td>\n",
       "      <td>...</td>\n",
       "    </tr>\n",
       "    <tr>\n",
       "      <th>2249600</th>\n",
       "      <td>1346248</td>\n",
       "      <td>Morning Song</td>\n",
       "      <td>NaN</td>\n",
       "      <td>NaN</td>\n",
       "      <td>7</td>\n",
       "      <td>551.180</td>\n",
       "    </tr>\n",
       "    <tr>\n",
       "      <th>2249603</th>\n",
       "      <td>1233590</td>\n",
       "      <td>Smonet Luxury PU Leather Rectangular Tissue Na...</td>\n",
       "      <td>NaN</td>\n",
       "      <td>NaN</td>\n",
       "      <td>6</td>\n",
       "      <td>1000.000</td>\n",
       "    </tr>\n",
       "    <tr>\n",
       "      <th>2249639</th>\n",
       "      <td>642145</td>\n",
       "      <td>Les natures en question - colloque de rentrée ...</td>\n",
       "      <td>NaN</td>\n",
       "      <td>NaN</td>\n",
       "      <td>1</td>\n",
       "      <td>570.865</td>\n",
       "    </tr>\n",
       "    <tr>\n",
       "      <th>2249645</th>\n",
       "      <td>688592</td>\n",
       "      <td>Estudio comparado. Proceso de certificación de...</td>\n",
       "      <td>NaN</td>\n",
       "      <td>NaN</td>\n",
       "      <td>1</td>\n",
       "      <td>591.000</td>\n",
       "    </tr>\n",
       "    <tr>\n",
       "      <th>2249673</th>\n",
       "      <td>627908</td>\n",
       "      <td>Ma main dans ta nuque</td>\n",
       "      <td>NaN</td>\n",
       "      <td>NaN</td>\n",
       "      <td>1</td>\n",
       "      <td>528.000</td>\n",
       "    </tr>\n",
       "  </tbody>\n",
       "</table>\n",
       "<p>166678 rows × 6 columns</p>\n",
       "</div>"
      ],
      "text/plain": [
       "         PRODUCT_ID                                              TITLE  \\\n",
       "11           833712                           La Mure / Valbonnais gps   \n",
       "12           648364  J'ecris des lettres! premiers exercices d'écri...   \n",
       "15          1810976  Stone & Beam Fan Embossed Planter in Blue, Medium   \n",
       "22           655356  100 clés des villes sœurs. Eu - Le Tréport - M...   \n",
       "45           699328                         Duden Kindergarten Lexikon   \n",
       "...             ...                                                ...   \n",
       "2249600     1346248                                       Morning Song   \n",
       "2249603     1233590  Smonet Luxury PU Leather Rectangular Tissue Na...   \n",
       "2249639      642145  Les natures en question - colloque de rentrée ...   \n",
       "2249645      688592  Estudio comparado. Proceso de certificación de...   \n",
       "2249673      627908                              Ma main dans ta nuque   \n",
       "\n",
       "        BULLET_POINTS DESCRIPTION  PRODUCT_TYPE_ID  PRODUCT_LENGTH  \n",
       "11                NaN         NaN                1         433.070  \n",
       "12                NaN         NaN                1         759.841  \n",
       "15                NaN         NaN                6         670.000  \n",
       "22                NaN         NaN                1         539.369  \n",
       "45                NaN         NaN                1         909.447  \n",
       "...               ...         ...              ...             ...  \n",
       "2249600           NaN         NaN                7         551.180  \n",
       "2249603           NaN         NaN                6        1000.000  \n",
       "2249639           NaN         NaN                1         570.865  \n",
       "2249645           NaN         NaN                1         591.000  \n",
       "2249673           NaN         NaN                1         528.000  \n",
       "\n",
       "[166678 rows x 6 columns]"
      ]
     },
     "execution_count": 37,
     "metadata": {},
     "output_type": "execute_result"
    }
   ],
   "source": [
    "data_count = data[data['PRODUCT_TYPE_ID'].isin(product_type)]\n",
    "data_count"
   ]
  },
  {
   "cell_type": "code",
   "execution_count": null,
   "id": "103675da",
   "metadata": {},
   "outputs": [],
   "source": []
  }
 ],
 "metadata": {
  "kernelspec": {
   "display_name": "Python 3",
   "language": "python",
   "name": "python3"
  },
  "language_info": {
   "codemirror_mode": {
    "name": "ipython",
    "version": 3
   },
   "file_extension": ".py",
   "mimetype": "text/x-python",
   "name": "python",
   "nbconvert_exporter": "python",
   "pygments_lexer": "ipython3",
   "version": "3.8.8"
  }
 },
 "nbformat": 4,
 "nbformat_minor": 5
}
